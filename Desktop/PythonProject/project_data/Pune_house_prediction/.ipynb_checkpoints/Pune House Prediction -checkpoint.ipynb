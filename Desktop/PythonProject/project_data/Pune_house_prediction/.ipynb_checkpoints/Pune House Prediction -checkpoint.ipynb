{
 "cells": [
  {
   "cell_type": "code",
   "execution_count": 174,
   "id": "59388b27",
   "metadata": {},
   "outputs": [],
   "source": [
    "import numpy as np\n",
    "import pandas as pd\n",
    "\n",
    "from sklearn.model_selection import train_test_split,GridSearchCV,RandomizedSearchCV\n",
    "from sklearn.linear_model import LinearRegression\n",
    "from sklearn.neighbors import KNeighborsClassifier\n",
    "from sklearn.tree import DecisionTreeRegressor\n",
    "from sklearn.ensemble import RandomForestRegressor\n",
    "from sklearn.metrics import r2_score,mean_absolute_error,mean_squared_error\n",
    "\n",
    "import matplotlib.pyplot as plt\n",
    "import seaborn as sns\n",
    "import re\n"
   ]
  },
  {
   "cell_type": "markdown",
   "id": "1832bfd8",
   "metadata": {},
   "source": [
    "## 1. Data Gathering "
   ]
  },
  {
   "cell_type": "code",
   "execution_count": 2,
   "id": "ee56f486",
   "metadata": {},
   "outputs": [
    {
     "data": {
      "text/html": [
       "<div>\n",
       "<style scoped>\n",
       "    .dataframe tbody tr th:only-of-type {\n",
       "        vertical-align: middle;\n",
       "    }\n",
       "\n",
       "    .dataframe tbody tr th {\n",
       "        vertical-align: top;\n",
       "    }\n",
       "\n",
       "    .dataframe thead th {\n",
       "        text-align: right;\n",
       "    }\n",
       "</style>\n",
       "<table border=\"1\" class=\"dataframe\">\n",
       "  <thead>\n",
       "    <tr style=\"text-align: right;\">\n",
       "      <th></th>\n",
       "      <th>area_type</th>\n",
       "      <th>availability</th>\n",
       "      <th>size</th>\n",
       "      <th>society</th>\n",
       "      <th>total_sqft</th>\n",
       "      <th>bath</th>\n",
       "      <th>balcony</th>\n",
       "      <th>price</th>\n",
       "      <th>site_location</th>\n",
       "    </tr>\n",
       "  </thead>\n",
       "  <tbody>\n",
       "    <tr>\n",
       "      <th>0</th>\n",
       "      <td>Super built-up  Area</td>\n",
       "      <td>19-Dec</td>\n",
       "      <td>2 BHK</td>\n",
       "      <td>Coomee</td>\n",
       "      <td>1056</td>\n",
       "      <td>2.0</td>\n",
       "      <td>1.0</td>\n",
       "      <td>39.07</td>\n",
       "      <td>Alandi Road</td>\n",
       "    </tr>\n",
       "    <tr>\n",
       "      <th>1</th>\n",
       "      <td>Plot  Area</td>\n",
       "      <td>Ready To Move</td>\n",
       "      <td>4 Bedroom</td>\n",
       "      <td>Theanmp</td>\n",
       "      <td>2600</td>\n",
       "      <td>5.0</td>\n",
       "      <td>3.0</td>\n",
       "      <td>120.00</td>\n",
       "      <td>Ambegaon Budruk</td>\n",
       "    </tr>\n",
       "    <tr>\n",
       "      <th>2</th>\n",
       "      <td>Built-up  Area</td>\n",
       "      <td>Ready To Move</td>\n",
       "      <td>3 BHK</td>\n",
       "      <td>NaN</td>\n",
       "      <td>1440</td>\n",
       "      <td>2.0</td>\n",
       "      <td>3.0</td>\n",
       "      <td>62.00</td>\n",
       "      <td>Anandnagar</td>\n",
       "    </tr>\n",
       "    <tr>\n",
       "      <th>3</th>\n",
       "      <td>Super built-up  Area</td>\n",
       "      <td>Ready To Move</td>\n",
       "      <td>3 BHK</td>\n",
       "      <td>Soiewre</td>\n",
       "      <td>1521</td>\n",
       "      <td>3.0</td>\n",
       "      <td>1.0</td>\n",
       "      <td>95.00</td>\n",
       "      <td>Aundh</td>\n",
       "    </tr>\n",
       "    <tr>\n",
       "      <th>4</th>\n",
       "      <td>Super built-up  Area</td>\n",
       "      <td>Ready To Move</td>\n",
       "      <td>2 BHK</td>\n",
       "      <td>NaN</td>\n",
       "      <td>1200</td>\n",
       "      <td>2.0</td>\n",
       "      <td>1.0</td>\n",
       "      <td>51.00</td>\n",
       "      <td>Aundh Road</td>\n",
       "    </tr>\n",
       "    <tr>\n",
       "      <th>...</th>\n",
       "      <td>...</td>\n",
       "      <td>...</td>\n",
       "      <td>...</td>\n",
       "      <td>...</td>\n",
       "      <td>...</td>\n",
       "      <td>...</td>\n",
       "      <td>...</td>\n",
       "      <td>...</td>\n",
       "      <td>...</td>\n",
       "    </tr>\n",
       "    <tr>\n",
       "      <th>13315</th>\n",
       "      <td>Built-up  Area</td>\n",
       "      <td>Ready To Move</td>\n",
       "      <td>5 Bedroom</td>\n",
       "      <td>ArsiaEx</td>\n",
       "      <td>3453</td>\n",
       "      <td>4.0</td>\n",
       "      <td>0.0</td>\n",
       "      <td>231.00</td>\n",
       "      <td>Pashan</td>\n",
       "    </tr>\n",
       "    <tr>\n",
       "      <th>13316</th>\n",
       "      <td>Super built-up  Area</td>\n",
       "      <td>Ready To Move</td>\n",
       "      <td>4 BHK</td>\n",
       "      <td>NaN</td>\n",
       "      <td>3600</td>\n",
       "      <td>5.0</td>\n",
       "      <td>NaN</td>\n",
       "      <td>400.00</td>\n",
       "      <td>Paud Road</td>\n",
       "    </tr>\n",
       "    <tr>\n",
       "      <th>13317</th>\n",
       "      <td>Built-up  Area</td>\n",
       "      <td>Ready To Move</td>\n",
       "      <td>2 BHK</td>\n",
       "      <td>Mahla T</td>\n",
       "      <td>1141</td>\n",
       "      <td>2.0</td>\n",
       "      <td>1.0</td>\n",
       "      <td>60.00</td>\n",
       "      <td>Pirangut</td>\n",
       "    </tr>\n",
       "    <tr>\n",
       "      <th>13318</th>\n",
       "      <td>Super built-up  Area</td>\n",
       "      <td>18-Jun</td>\n",
       "      <td>4 BHK</td>\n",
       "      <td>SollyCl</td>\n",
       "      <td>4689</td>\n",
       "      <td>4.0</td>\n",
       "      <td>1.0</td>\n",
       "      <td>488.00</td>\n",
       "      <td>Prabhat Road</td>\n",
       "    </tr>\n",
       "    <tr>\n",
       "      <th>13319</th>\n",
       "      <td>Super built-up  Area</td>\n",
       "      <td>Ready To Move</td>\n",
       "      <td>1 BHK</td>\n",
       "      <td>NaN</td>\n",
       "      <td>550</td>\n",
       "      <td>1.0</td>\n",
       "      <td>1.0</td>\n",
       "      <td>17.00</td>\n",
       "      <td>Pune Railway Station</td>\n",
       "    </tr>\n",
       "  </tbody>\n",
       "</table>\n",
       "<p>13320 rows × 9 columns</p>\n",
       "</div>"
      ],
      "text/plain": [
       "                  area_type   availability       size  society total_sqft  \\\n",
       "0      Super built-up  Area         19-Dec      2 BHK  Coomee        1056   \n",
       "1                Plot  Area  Ready To Move  4 Bedroom  Theanmp       2600   \n",
       "2            Built-up  Area  Ready To Move      3 BHK      NaN       1440   \n",
       "3      Super built-up  Area  Ready To Move      3 BHK  Soiewre       1521   \n",
       "4      Super built-up  Area  Ready To Move      2 BHK      NaN       1200   \n",
       "...                     ...            ...        ...      ...        ...   \n",
       "13315        Built-up  Area  Ready To Move  5 Bedroom  ArsiaEx       3453   \n",
       "13316  Super built-up  Area  Ready To Move      4 BHK      NaN       3600   \n",
       "13317        Built-up  Area  Ready To Move      2 BHK  Mahla T       1141   \n",
       "13318  Super built-up  Area         18-Jun      4 BHK  SollyCl       4689   \n",
       "13319  Super built-up  Area  Ready To Move      1 BHK      NaN        550   \n",
       "\n",
       "       bath  balcony   price         site_location  \n",
       "0       2.0      1.0   39.07           Alandi Road  \n",
       "1       5.0      3.0  120.00       Ambegaon Budruk  \n",
       "2       2.0      3.0   62.00            Anandnagar  \n",
       "3       3.0      1.0   95.00                 Aundh  \n",
       "4       2.0      1.0   51.00            Aundh Road  \n",
       "...     ...      ...     ...                   ...  \n",
       "13315   4.0      0.0  231.00                Pashan  \n",
       "13316   5.0      NaN  400.00             Paud Road  \n",
       "13317   2.0      1.0   60.00              Pirangut  \n",
       "13318   4.0      1.0  488.00          Prabhat Road  \n",
       "13319   1.0      1.0   17.00  Pune Railway Station  \n",
       "\n",
       "[13320 rows x 9 columns]"
      ]
     },
     "execution_count": 2,
     "metadata": {},
     "output_type": "execute_result"
    }
   ],
   "source": [
    "df=pd.read_csv('Pune_house_data.csv')\n",
    "df"
   ]
  },
  {
   "cell_type": "markdown",
   "id": "94b197c3",
   "metadata": {},
   "source": [
    "## 2 EDA "
   ]
  },
  {
   "cell_type": "code",
   "execution_count": 3,
   "id": "e5c03fe8",
   "metadata": {},
   "outputs": [
    {
     "name": "stdout",
     "output_type": "stream",
     "text": [
      "<class 'pandas.core.frame.DataFrame'>\n",
      "RangeIndex: 13320 entries, 0 to 13319\n",
      "Data columns (total 9 columns):\n",
      " #   Column         Non-Null Count  Dtype  \n",
      "---  ------         --------------  -----  \n",
      " 0   area_type      13320 non-null  object \n",
      " 1   availability   13320 non-null  object \n",
      " 2   size           13304 non-null  object \n",
      " 3   society        7818 non-null   object \n",
      " 4   total_sqft     13320 non-null  object \n",
      " 5   bath           13247 non-null  float64\n",
      " 6   balcony        12711 non-null  float64\n",
      " 7   price          13320 non-null  float64\n",
      " 8   site_location  13319 non-null  object \n",
      "dtypes: float64(3), object(6)\n",
      "memory usage: 936.7+ KB\n"
     ]
    }
   ],
   "source": [
    "df.info()"
   ]
  },
  {
   "cell_type": "markdown",
   "id": "2f2025cd",
   "metadata": {},
   "source": [
    "### analyzing each feature and converting into appropriate fromat"
   ]
  },
  {
   "cell_type": "markdown",
   "id": "619ef9f8",
   "metadata": {},
   "source": [
    "##### 1. 'area_type' analysis"
   ]
  },
  {
   "cell_type": "code",
   "execution_count": 4,
   "id": "aa3c6392",
   "metadata": {},
   "outputs": [
    {
     "data": {
      "text/plain": [
       "Super built-up  Area    8790\n",
       "Built-up  Area          2418\n",
       "Plot  Area              2025\n",
       "Carpet  Area              87\n",
       "Name: area_type, dtype: int64"
      ]
     },
     "execution_count": 4,
     "metadata": {},
     "output_type": "execute_result"
    }
   ],
   "source": [
    "df['area_type'].value_counts()  ## 4 types of areas are present"
   ]
  },
  {
   "cell_type": "code",
   "execution_count": 6,
   "id": "84238b29",
   "metadata": {},
   "outputs": [
    {
     "data": {
      "text/plain": [
       "{'Super built-up  Area': 8790,\n",
       " 'Built-up  Area': 2418,\n",
       " 'Plot  Area': 2025,\n",
       " 'Carpet  Area': 87}"
      ]
     },
     "execution_count": 6,
     "metadata": {},
     "output_type": "execute_result"
    }
   ],
   "source": [
    "df['area_type'].value_counts().to_dict()"
   ]
  },
  {
   "cell_type": "code",
   "execution_count": 9,
   "id": "5139aeb2",
   "metadata": {},
   "outputs": [],
   "source": [
    "df['area_type'].replace({'Super built-up  Area': 0,\n",
    " 'Built-up  Area': 1,\n",
    " 'Plot  Area': 2,\n",
    " 'Carpet  Area': 3},inplace=True)"
   ]
  },
  {
   "cell_type": "code",
   "execution_count": 10,
   "id": "964d91ca",
   "metadata": {},
   "outputs": [
    {
     "data": {
      "text/plain": [
       "0    8790\n",
       "1    2418\n",
       "2    2025\n",
       "3      87\n",
       "Name: area_type, dtype: int64"
      ]
     },
     "execution_count": 10,
     "metadata": {},
     "output_type": "execute_result"
    }
   ],
   "source": [
    "df['area_type'].value_counts()"
   ]
  },
  {
   "cell_type": "code",
   "execution_count": 12,
   "id": "1c84eab1",
   "metadata": {},
   "outputs": [
    {
     "data": {
      "text/plain": [
       "0"
      ]
     },
     "execution_count": 12,
     "metadata": {},
     "output_type": "execute_result"
    }
   ],
   "source": [
    "df['area_type'].isna().sum()"
   ]
  },
  {
   "cell_type": "markdown",
   "id": "94de2d04",
   "metadata": {},
   "source": [
    "##### 2. 'availability' analysis"
   ]
  },
  {
   "cell_type": "code",
   "execution_count": 52,
   "id": "edb32f85",
   "metadata": {},
   "outputs": [
    {
     "data": {
      "text/plain": [
       "22        10581\n",
       "18-Dec      307\n",
       "18-May      295\n",
       "18-Apr      271\n",
       "18-Aug      200\n",
       "          ...  \n",
       "15-Aug        1\n",
       "17-Jan        1\n",
       "16-Nov        1\n",
       "16-Jan        1\n",
       "14-Jul        1\n",
       "Name: availability, Length: 81, dtype: int64"
      ]
     },
     "execution_count": 52,
     "metadata": {},
     "output_type": "execute_result"
    }
   ],
   "source": [
    "df['availability'].value_counts()"
   ]
  },
  {
   "cell_type": "code",
   "execution_count": 65,
   "id": "33fff1e6",
   "metadata": {},
   "outputs": [
    {
     "data": {
      "text/plain": [
       "array(['19-Dec', 22, '18-May', '18-Feb', '18-Nov', '20-Dec', '17-Oct',\n",
       "       '21-Dec', '19-Sep', '20-Sep', '18-Mar', '20-Feb', '18-Apr',\n",
       "       '20-Aug', '18-Oct', '19-Mar', '17-Sep', '18-Dec', '17-Aug',\n",
       "       '19-Apr', '18-Jun', '22-Dec', '22-Jan', '18-Aug', '19-Jan',\n",
       "       '17-Jul', '18-Jul', '21-Jun', '20-May', '19-Aug', '18-Sep',\n",
       "       '17-May', '17-Jun', '21-May', '18-Jan', '20-Mar', '17-Dec',\n",
       "       '16-Mar', '19-Jun', '22-Jun', '19-Jul', '21-Feb',\n",
       "       'Immediate Possession', '19-May', '17-Nov', '20-Oct', '20-Jun',\n",
       "       '19-Feb', '21-Oct', '21-Jan', '17-Mar', '17-Apr', '22-May',\n",
       "       '19-Oct', '21-Jul', '21-Nov', '21-Mar', '16-Dec', '22-Mar',\n",
       "       '20-Jan', '21-Sep', '21-Aug', '14-Nov', '19-Nov', '15-Nov',\n",
       "       '16-Jul', '15-Jun', '17-Feb', '20-Nov', '20-Jul', '16-Sep',\n",
       "       '15-Oct', '15-Dec', '16-Oct', '22-Nov', '15-Aug', '17-Jan',\n",
       "       '16-Nov', '20-Apr', '16-Jan', '14-Jul'], dtype=object)"
      ]
     },
     "execution_count": 65,
     "metadata": {},
     "output_type": "execute_result"
    }
   ],
   "source": [
    "df['availability'].unique()"
   ]
  },
  {
   "cell_type": "code",
   "execution_count": null,
   "id": "a9312eab",
   "metadata": {},
   "outputs": [],
   "source": [
    "# ## pending\n",
    "# 19-Jan  >> 2019-01 >> 2019+1/12\n",
    "# 18-Dec  >> 2018-12 >> 2018+12/12\n",
    "# 18-May  >> 2018-05 >> 2018+05/12          \n",
    "# 18-Apr  >> 2018-04           \n",
    "# 18-Aug  >> 2018-08           \n",
    "# 15-Aug  >> 2015-08\n",
    "# 15-Oct  >> 2015-10\n",
    "# 15-Jan  >> 2015-01\n",
    "# 15-Feb  >> 2015-02"
   ]
  },
  {
   "cell_type": "code",
   "execution_count": 66,
   "id": "09f39c42",
   "metadata": {},
   "outputs": [],
   "source": [
    "df['availability'].replace({'Ready To Move':22,'Immediate Possession':22},inplace=True)"
   ]
  },
  {
   "cell_type": "code",
   "execution_count": 67,
   "id": "fb90cff4",
   "metadata": {},
   "outputs": [
    {
     "data": {
      "text/plain": [
       "22        10597\n",
       "18-Dec      307\n",
       "18-May      295\n",
       "18-Apr      271\n",
       "18-Aug      200\n",
       "          ...  \n",
       "15-Aug        1\n",
       "17-Jan        1\n",
       "16-Nov        1\n",
       "16-Jan        1\n",
       "14-Jul        1\n",
       "Name: availability, Length: 80, dtype: int64"
      ]
     },
     "execution_count": 67,
     "metadata": {},
     "output_type": "execute_result"
    }
   ],
   "source": [
    "df['availability'].value_counts()"
   ]
  },
  {
   "cell_type": "code",
   "execution_count": 72,
   "id": "1624b646",
   "metadata": {},
   "outputs": [
    {
     "data": {
      "text/plain": [
       "13320"
      ]
     },
     "execution_count": 72,
     "metadata": {},
     "output_type": "execute_result"
    }
   ],
   "source": [
    "avail=[]\n",
    "\n",
    "for i in df['availability']:\n",
    "    yr=str(i)[0:2]\n",
    "    avail.append(int(yr))\n",
    "len(avail)    "
   ]
  },
  {
   "cell_type": "code",
   "execution_count": 73,
   "id": "dbfa5f4b",
   "metadata": {},
   "outputs": [],
   "source": [
    "df['yr_availability']=avail"
   ]
  },
  {
   "cell_type": "code",
   "execution_count": 77,
   "id": "bc411af9",
   "metadata": {},
   "outputs": [],
   "source": [
    "df.drop('availability',inplace=True, axis=1)"
   ]
  },
  {
   "cell_type": "code",
   "execution_count": 78,
   "id": "26a2f5ad",
   "metadata": {},
   "outputs": [
    {
     "data": {
      "text/html": [
       "<div>\n",
       "<style scoped>\n",
       "    .dataframe tbody tr th:only-of-type {\n",
       "        vertical-align: middle;\n",
       "    }\n",
       "\n",
       "    .dataframe tbody tr th {\n",
       "        vertical-align: top;\n",
       "    }\n",
       "\n",
       "    .dataframe thead th {\n",
       "        text-align: right;\n",
       "    }\n",
       "</style>\n",
       "<table border=\"1\" class=\"dataframe\">\n",
       "  <thead>\n",
       "    <tr style=\"text-align: right;\">\n",
       "      <th></th>\n",
       "      <th>area_type</th>\n",
       "      <th>size</th>\n",
       "      <th>society</th>\n",
       "      <th>total_sqft</th>\n",
       "      <th>bath</th>\n",
       "      <th>balcony</th>\n",
       "      <th>price</th>\n",
       "      <th>site_location</th>\n",
       "      <th>yr_availability</th>\n",
       "    </tr>\n",
       "  </thead>\n",
       "  <tbody>\n",
       "    <tr>\n",
       "      <th>0</th>\n",
       "      <td>0</td>\n",
       "      <td>2 BHK</td>\n",
       "      <td>Coomee</td>\n",
       "      <td>1056</td>\n",
       "      <td>2.0</td>\n",
       "      <td>1.0</td>\n",
       "      <td>39.07</td>\n",
       "      <td>Alandi Road</td>\n",
       "      <td>19</td>\n",
       "    </tr>\n",
       "    <tr>\n",
       "      <th>1</th>\n",
       "      <td>2</td>\n",
       "      <td>4 Bedroom</td>\n",
       "      <td>Theanmp</td>\n",
       "      <td>2600</td>\n",
       "      <td>5.0</td>\n",
       "      <td>3.0</td>\n",
       "      <td>120.00</td>\n",
       "      <td>Ambegaon Budruk</td>\n",
       "      <td>22</td>\n",
       "    </tr>\n",
       "    <tr>\n",
       "      <th>2</th>\n",
       "      <td>1</td>\n",
       "      <td>3 BHK</td>\n",
       "      <td>NaN</td>\n",
       "      <td>1440</td>\n",
       "      <td>2.0</td>\n",
       "      <td>3.0</td>\n",
       "      <td>62.00</td>\n",
       "      <td>Anandnagar</td>\n",
       "      <td>22</td>\n",
       "    </tr>\n",
       "    <tr>\n",
       "      <th>3</th>\n",
       "      <td>0</td>\n",
       "      <td>3 BHK</td>\n",
       "      <td>Soiewre</td>\n",
       "      <td>1521</td>\n",
       "      <td>3.0</td>\n",
       "      <td>1.0</td>\n",
       "      <td>95.00</td>\n",
       "      <td>Aundh</td>\n",
       "      <td>22</td>\n",
       "    </tr>\n",
       "    <tr>\n",
       "      <th>4</th>\n",
       "      <td>0</td>\n",
       "      <td>2 BHK</td>\n",
       "      <td>NaN</td>\n",
       "      <td>1200</td>\n",
       "      <td>2.0</td>\n",
       "      <td>1.0</td>\n",
       "      <td>51.00</td>\n",
       "      <td>Aundh Road</td>\n",
       "      <td>22</td>\n",
       "    </tr>\n",
       "    <tr>\n",
       "      <th>...</th>\n",
       "      <td>...</td>\n",
       "      <td>...</td>\n",
       "      <td>...</td>\n",
       "      <td>...</td>\n",
       "      <td>...</td>\n",
       "      <td>...</td>\n",
       "      <td>...</td>\n",
       "      <td>...</td>\n",
       "      <td>...</td>\n",
       "    </tr>\n",
       "    <tr>\n",
       "      <th>13315</th>\n",
       "      <td>1</td>\n",
       "      <td>5 Bedroom</td>\n",
       "      <td>ArsiaEx</td>\n",
       "      <td>3453</td>\n",
       "      <td>4.0</td>\n",
       "      <td>0.0</td>\n",
       "      <td>231.00</td>\n",
       "      <td>Pashan</td>\n",
       "      <td>22</td>\n",
       "    </tr>\n",
       "    <tr>\n",
       "      <th>13316</th>\n",
       "      <td>0</td>\n",
       "      <td>4 BHK</td>\n",
       "      <td>NaN</td>\n",
       "      <td>3600</td>\n",
       "      <td>5.0</td>\n",
       "      <td>NaN</td>\n",
       "      <td>400.00</td>\n",
       "      <td>Paud Road</td>\n",
       "      <td>22</td>\n",
       "    </tr>\n",
       "    <tr>\n",
       "      <th>13317</th>\n",
       "      <td>1</td>\n",
       "      <td>2 BHK</td>\n",
       "      <td>Mahla T</td>\n",
       "      <td>1141</td>\n",
       "      <td>2.0</td>\n",
       "      <td>1.0</td>\n",
       "      <td>60.00</td>\n",
       "      <td>Pirangut</td>\n",
       "      <td>22</td>\n",
       "    </tr>\n",
       "    <tr>\n",
       "      <th>13318</th>\n",
       "      <td>0</td>\n",
       "      <td>4 BHK</td>\n",
       "      <td>SollyCl</td>\n",
       "      <td>4689</td>\n",
       "      <td>4.0</td>\n",
       "      <td>1.0</td>\n",
       "      <td>488.00</td>\n",
       "      <td>Prabhat Road</td>\n",
       "      <td>18</td>\n",
       "    </tr>\n",
       "    <tr>\n",
       "      <th>13319</th>\n",
       "      <td>0</td>\n",
       "      <td>1 BHK</td>\n",
       "      <td>NaN</td>\n",
       "      <td>550</td>\n",
       "      <td>1.0</td>\n",
       "      <td>1.0</td>\n",
       "      <td>17.00</td>\n",
       "      <td>Pune Railway Station</td>\n",
       "      <td>22</td>\n",
       "    </tr>\n",
       "  </tbody>\n",
       "</table>\n",
       "<p>13320 rows × 9 columns</p>\n",
       "</div>"
      ],
      "text/plain": [
       "       area_type       size  society total_sqft  bath  balcony   price  \\\n",
       "0              0      2 BHK  Coomee        1056   2.0      1.0   39.07   \n",
       "1              2  4 Bedroom  Theanmp       2600   5.0      3.0  120.00   \n",
       "2              1      3 BHK      NaN       1440   2.0      3.0   62.00   \n",
       "3              0      3 BHK  Soiewre       1521   3.0      1.0   95.00   \n",
       "4              0      2 BHK      NaN       1200   2.0      1.0   51.00   \n",
       "...          ...        ...      ...        ...   ...      ...     ...   \n",
       "13315          1  5 Bedroom  ArsiaEx       3453   4.0      0.0  231.00   \n",
       "13316          0      4 BHK      NaN       3600   5.0      NaN  400.00   \n",
       "13317          1      2 BHK  Mahla T       1141   2.0      1.0   60.00   \n",
       "13318          0      4 BHK  SollyCl       4689   4.0      1.0  488.00   \n",
       "13319          0      1 BHK      NaN        550   1.0      1.0   17.00   \n",
       "\n",
       "              site_location  yr_availability  \n",
       "0               Alandi Road               19  \n",
       "1           Ambegaon Budruk               22  \n",
       "2                Anandnagar               22  \n",
       "3                     Aundh               22  \n",
       "4                Aundh Road               22  \n",
       "...                     ...              ...  \n",
       "13315                Pashan               22  \n",
       "13316             Paud Road               22  \n",
       "13317              Pirangut               22  \n",
       "13318          Prabhat Road               18  \n",
       "13319  Pune Railway Station               22  \n",
       "\n",
       "[13320 rows x 9 columns]"
      ]
     },
     "execution_count": 78,
     "metadata": {},
     "output_type": "execute_result"
    }
   ],
   "source": [
    "df"
   ]
  },
  {
   "cell_type": "code",
   "execution_count": 79,
   "id": "38e86bf5",
   "metadata": {
    "scrolled": true
   },
   "outputs": [
    {
     "name": "stdout",
     "output_type": "stream",
     "text": [
      "<class 'pandas.core.frame.DataFrame'>\n",
      "RangeIndex: 13320 entries, 0 to 13319\n",
      "Data columns (total 9 columns):\n",
      " #   Column           Non-Null Count  Dtype  \n",
      "---  ------           --------------  -----  \n",
      " 0   area_type        13320 non-null  int64  \n",
      " 1   size             13304 non-null  object \n",
      " 2   society          7818 non-null   object \n",
      " 3   total_sqft       13320 non-null  object \n",
      " 4   bath             13247 non-null  float64\n",
      " 5   balcony          12711 non-null  float64\n",
      " 6   price            13320 non-null  float64\n",
      " 7   site_location    13319 non-null  object \n",
      " 8   yr_availability  13320 non-null  int64  \n",
      "dtypes: float64(3), int64(2), object(4)\n",
      "memory usage: 936.7+ KB\n"
     ]
    }
   ],
   "source": [
    "df.info()"
   ]
  },
  {
   "cell_type": "markdown",
   "id": "3307c5d4",
   "metadata": {},
   "source": [
    "##### 3. 'size' analysis"
   ]
  },
  {
   "cell_type": "code",
   "execution_count": 87,
   "id": "11a878c5",
   "metadata": {},
   "outputs": [
    {
     "data": {
      "text/plain": [
       "2.0     5528\n",
       "3.0     4857\n",
       "4.0     1417\n",
       "1.0      643\n",
       "5.0      356\n",
       "6.0      221\n",
       "7.0      100\n",
       "8.0       89\n",
       "9.0       54\n",
       "10.0      14\n",
       "0.5       13\n",
       "11.0       4\n",
       "27.0       1\n",
       "19.0       1\n",
       "16.0       1\n",
       "43.0       1\n",
       "14.0       1\n",
       "12.0       1\n",
       "13.0       1\n",
       "18.0       1\n",
       "Name: size, dtype: int64"
      ]
     },
     "execution_count": 87,
     "metadata": {},
     "output_type": "execute_result"
    }
   ],
   "source": [
    "df['size'].value_counts()"
   ]
  },
  {
   "cell_type": "code",
   "execution_count": 84,
   "id": "09abde74",
   "metadata": {},
   "outputs": [],
   "source": [
    "df['size'].replace({'2 BHK': 2,\n",
    " '3 BHK': 3,\n",
    " '4 Bedroom': 4,\n",
    " '4 BHK': 4,\n",
    " '3 Bedroom': 3,\n",
    " '1 BHK': 1,\n",
    " '2 Bedroom': 2,\n",
    " '5 Bedroom': 5,\n",
    " '6 Bedroom': 6,\n",
    " '1 Bedroom': 1,\n",
    " '8 Bedroom': 8,\n",
    " '7 Bedroom': 7,\n",
    " '5 BHK': 5,\n",
    " '9 Bedroom': 9,\n",
    " '6 BHK': 6,\n",
    " '7 BHK': 7,\n",
    " '1 RK': 0.5,\n",
    " '10 Bedroom': 10,\n",
    " '9 BHK': 9,\n",
    " '8 BHK': 8,\n",
    " '11 BHK': 11,\n",
    " '11 Bedroom': 11,\n",
    " '10 BHK': 10,\n",
    " '14 BHK': 14,\n",
    " '13 BHK': 13,\n",
    " '12 Bedroom': 12,\n",
    " '27 BHK': 27,\n",
    " '43 Bedroom': 43,\n",
    " '16 BHK': 16,\n",
    " '19 BHK': 19,\n",
    " '18 Bedroom': 18},inplace=True)"
   ]
  },
  {
   "cell_type": "code",
   "execution_count": 85,
   "id": "6f413fa1",
   "metadata": {},
   "outputs": [
    {
     "name": "stdout",
     "output_type": "stream",
     "text": [
      "<class 'pandas.core.frame.DataFrame'>\n",
      "RangeIndex: 13320 entries, 0 to 13319\n",
      "Data columns (total 9 columns):\n",
      " #   Column           Non-Null Count  Dtype  \n",
      "---  ------           --------------  -----  \n",
      " 0   area_type        13320 non-null  int64  \n",
      " 1   size             13304 non-null  float64\n",
      " 2   society          7818 non-null   object \n",
      " 3   total_sqft       13320 non-null  object \n",
      " 4   bath             13247 non-null  float64\n",
      " 5   balcony          12711 non-null  float64\n",
      " 6   price            13320 non-null  float64\n",
      " 7   site_location    13319 non-null  object \n",
      " 8   yr_availability  13320 non-null  int64  \n",
      "dtypes: float64(4), int64(2), object(3)\n",
      "memory usage: 936.7+ KB\n"
     ]
    }
   ],
   "source": [
    "df.info()"
   ]
  },
  {
   "cell_type": "markdown",
   "id": "618fe648",
   "metadata": {},
   "source": [
    "##### 4. 'society' analysis"
   ]
  },
  {
   "cell_type": "code",
   "execution_count": 88,
   "id": "45bde6d2",
   "metadata": {},
   "outputs": [
    {
     "data": {
      "text/plain": [
       "GrrvaGr    80\n",
       "PrarePa    76\n",
       "Sryalan    59\n",
       "Prtates    59\n",
       "GMown E    56\n",
       "           ..\n",
       "Amionce     1\n",
       "JaghtDe     1\n",
       "Jauraht     1\n",
       "Brity U     1\n",
       "RSntsAp     1\n",
       "Name: society, Length: 2688, dtype: int64"
      ]
     },
     "execution_count": 88,
     "metadata": {},
     "output_type": "execute_result"
    }
   ],
   "source": [
    "df[\"society\"].value_counts() #dropping this"
   ]
  },
  {
   "cell_type": "code",
   "execution_count": 90,
   "id": "6a7a269d",
   "metadata": {},
   "outputs": [],
   "source": [
    "df.drop('society',inplace=True,axis=1)"
   ]
  },
  {
   "cell_type": "code",
   "execution_count": 91,
   "id": "65f704ec",
   "metadata": {},
   "outputs": [
    {
     "name": "stdout",
     "output_type": "stream",
     "text": [
      "<class 'pandas.core.frame.DataFrame'>\n",
      "RangeIndex: 13320 entries, 0 to 13319\n",
      "Data columns (total 8 columns):\n",
      " #   Column           Non-Null Count  Dtype  \n",
      "---  ------           --------------  -----  \n",
      " 0   area_type        13320 non-null  int64  \n",
      " 1   size             13304 non-null  float64\n",
      " 2   total_sqft       13320 non-null  object \n",
      " 3   bath             13247 non-null  float64\n",
      " 4   balcony          12711 non-null  float64\n",
      " 5   price            13320 non-null  float64\n",
      " 6   site_location    13319 non-null  object \n",
      " 7   yr_availability  13320 non-null  int64  \n",
      "dtypes: float64(4), int64(2), object(2)\n",
      "memory usage: 832.6+ KB\n"
     ]
    }
   ],
   "source": [
    "df.info()"
   ]
  },
  {
   "cell_type": "code",
   "execution_count": null,
   "id": "e46888d9",
   "metadata": {},
   "outputs": [],
   "source": [
    "##### 4. 'society' analysis"
   ]
  },
  {
   "cell_type": "markdown",
   "id": "414289e5",
   "metadata": {},
   "source": [
    "##### 5. 'total_sqft ' analysis"
   ]
  },
  {
   "cell_type": "code",
   "execution_count": 111,
   "id": "485d3365",
   "metadata": {},
   "outputs": [
    {
     "ename": "ValueError",
     "evalue": "invalid literal for int() with base 10: '2100 - 2850'",
     "output_type": "error",
     "traceback": [
      "\u001b[1;31m---------------------------------------------------------------------------\u001b[0m",
      "\u001b[1;31mValueError\u001b[0m                                Traceback (most recent call last)",
      "Input \u001b[1;32mIn [111]\u001b[0m, in \u001b[0;36m<cell line: 1>\u001b[1;34m()\u001b[0m\n\u001b[1;32m----> 1\u001b[0m \u001b[43mdf\u001b[49m\u001b[43m[\u001b[49m\u001b[38;5;124;43m'\u001b[39;49m\u001b[38;5;124;43mtotal_sqft\u001b[39;49m\u001b[38;5;124;43m'\u001b[39;49m\u001b[43m]\u001b[49m\u001b[38;5;241;43m.\u001b[39;49m\u001b[43mastype\u001b[49m\u001b[43m(\u001b[49m\u001b[38;5;28;43mint\u001b[39;49m\u001b[43m)\u001b[49m\n",
      "File \u001b[1;32m~\\anaconda3\\lib\\site-packages\\pandas\\core\\generic.py:5912\u001b[0m, in \u001b[0;36mNDFrame.astype\u001b[1;34m(self, dtype, copy, errors)\u001b[0m\n\u001b[0;32m   5905\u001b[0m     results \u001b[38;5;241m=\u001b[39m [\n\u001b[0;32m   5906\u001b[0m         \u001b[38;5;28mself\u001b[39m\u001b[38;5;241m.\u001b[39miloc[:, i]\u001b[38;5;241m.\u001b[39mastype(dtype, copy\u001b[38;5;241m=\u001b[39mcopy)\n\u001b[0;32m   5907\u001b[0m         \u001b[38;5;28;01mfor\u001b[39;00m i \u001b[38;5;129;01min\u001b[39;00m \u001b[38;5;28mrange\u001b[39m(\u001b[38;5;28mlen\u001b[39m(\u001b[38;5;28mself\u001b[39m\u001b[38;5;241m.\u001b[39mcolumns))\n\u001b[0;32m   5908\u001b[0m     ]\n\u001b[0;32m   5910\u001b[0m \u001b[38;5;28;01melse\u001b[39;00m:\n\u001b[0;32m   5911\u001b[0m     \u001b[38;5;66;03m# else, only a single dtype is given\u001b[39;00m\n\u001b[1;32m-> 5912\u001b[0m     new_data \u001b[38;5;241m=\u001b[39m \u001b[38;5;28;43mself\u001b[39;49m\u001b[38;5;241;43m.\u001b[39;49m\u001b[43m_mgr\u001b[49m\u001b[38;5;241;43m.\u001b[39;49m\u001b[43mastype\u001b[49m\u001b[43m(\u001b[49m\u001b[43mdtype\u001b[49m\u001b[38;5;241;43m=\u001b[39;49m\u001b[43mdtype\u001b[49m\u001b[43m,\u001b[49m\u001b[43m \u001b[49m\u001b[43mcopy\u001b[49m\u001b[38;5;241;43m=\u001b[39;49m\u001b[43mcopy\u001b[49m\u001b[43m,\u001b[49m\u001b[43m \u001b[49m\u001b[43merrors\u001b[49m\u001b[38;5;241;43m=\u001b[39;49m\u001b[43merrors\u001b[49m\u001b[43m)\u001b[49m\n\u001b[0;32m   5913\u001b[0m     \u001b[38;5;28;01mreturn\u001b[39;00m \u001b[38;5;28mself\u001b[39m\u001b[38;5;241m.\u001b[39m_constructor(new_data)\u001b[38;5;241m.\u001b[39m__finalize__(\u001b[38;5;28mself\u001b[39m, method\u001b[38;5;241m=\u001b[39m\u001b[38;5;124m\"\u001b[39m\u001b[38;5;124mastype\u001b[39m\u001b[38;5;124m\"\u001b[39m)\n\u001b[0;32m   5915\u001b[0m \u001b[38;5;66;03m# GH 33113: handle empty frame or series\u001b[39;00m\n",
      "File \u001b[1;32m~\\anaconda3\\lib\\site-packages\\pandas\\core\\internals\\managers.py:419\u001b[0m, in \u001b[0;36mBaseBlockManager.astype\u001b[1;34m(self, dtype, copy, errors)\u001b[0m\n\u001b[0;32m    418\u001b[0m \u001b[38;5;28;01mdef\u001b[39;00m \u001b[38;5;21mastype\u001b[39m(\u001b[38;5;28mself\u001b[39m: T, dtype, copy: \u001b[38;5;28mbool\u001b[39m \u001b[38;5;241m=\u001b[39m \u001b[38;5;28;01mFalse\u001b[39;00m, errors: \u001b[38;5;28mstr\u001b[39m \u001b[38;5;241m=\u001b[39m \u001b[38;5;124m\"\u001b[39m\u001b[38;5;124mraise\u001b[39m\u001b[38;5;124m\"\u001b[39m) \u001b[38;5;241m-\u001b[39m\u001b[38;5;241m>\u001b[39m T:\n\u001b[1;32m--> 419\u001b[0m     \u001b[38;5;28;01mreturn\u001b[39;00m \u001b[38;5;28;43mself\u001b[39;49m\u001b[38;5;241;43m.\u001b[39;49m\u001b[43mapply\u001b[49m\u001b[43m(\u001b[49m\u001b[38;5;124;43m\"\u001b[39;49m\u001b[38;5;124;43mastype\u001b[39;49m\u001b[38;5;124;43m\"\u001b[39;49m\u001b[43m,\u001b[49m\u001b[43m \u001b[49m\u001b[43mdtype\u001b[49m\u001b[38;5;241;43m=\u001b[39;49m\u001b[43mdtype\u001b[49m\u001b[43m,\u001b[49m\u001b[43m \u001b[49m\u001b[43mcopy\u001b[49m\u001b[38;5;241;43m=\u001b[39;49m\u001b[43mcopy\u001b[49m\u001b[43m,\u001b[49m\u001b[43m \u001b[49m\u001b[43merrors\u001b[49m\u001b[38;5;241;43m=\u001b[39;49m\u001b[43merrors\u001b[49m\u001b[43m)\u001b[49m\n",
      "File \u001b[1;32m~\\anaconda3\\lib\\site-packages\\pandas\\core\\internals\\managers.py:304\u001b[0m, in \u001b[0;36mBaseBlockManager.apply\u001b[1;34m(self, f, align_keys, ignore_failures, **kwargs)\u001b[0m\n\u001b[0;32m    302\u001b[0m         applied \u001b[38;5;241m=\u001b[39m b\u001b[38;5;241m.\u001b[39mapply(f, \u001b[38;5;241m*\u001b[39m\u001b[38;5;241m*\u001b[39mkwargs)\n\u001b[0;32m    303\u001b[0m     \u001b[38;5;28;01melse\u001b[39;00m:\n\u001b[1;32m--> 304\u001b[0m         applied \u001b[38;5;241m=\u001b[39m \u001b[38;5;28mgetattr\u001b[39m(b, f)(\u001b[38;5;241m*\u001b[39m\u001b[38;5;241m*\u001b[39mkwargs)\n\u001b[0;32m    305\u001b[0m \u001b[38;5;28;01mexcept\u001b[39;00m (\u001b[38;5;167;01mTypeError\u001b[39;00m, \u001b[38;5;167;01mNotImplementedError\u001b[39;00m):\n\u001b[0;32m    306\u001b[0m     \u001b[38;5;28;01mif\u001b[39;00m \u001b[38;5;129;01mnot\u001b[39;00m ignore_failures:\n",
      "File \u001b[1;32m~\\anaconda3\\lib\\site-packages\\pandas\\core\\internals\\blocks.py:580\u001b[0m, in \u001b[0;36mBlock.astype\u001b[1;34m(self, dtype, copy, errors)\u001b[0m\n\u001b[0;32m    562\u001b[0m \u001b[38;5;124;03m\"\"\"\u001b[39;00m\n\u001b[0;32m    563\u001b[0m \u001b[38;5;124;03mCoerce to the new dtype.\u001b[39;00m\n\u001b[0;32m    564\u001b[0m \n\u001b[1;32m   (...)\u001b[0m\n\u001b[0;32m    576\u001b[0m \u001b[38;5;124;03mBlock\u001b[39;00m\n\u001b[0;32m    577\u001b[0m \u001b[38;5;124;03m\"\"\"\u001b[39;00m\n\u001b[0;32m    578\u001b[0m values \u001b[38;5;241m=\u001b[39m \u001b[38;5;28mself\u001b[39m\u001b[38;5;241m.\u001b[39mvalues\n\u001b[1;32m--> 580\u001b[0m new_values \u001b[38;5;241m=\u001b[39m \u001b[43mastype_array_safe\u001b[49m\u001b[43m(\u001b[49m\u001b[43mvalues\u001b[49m\u001b[43m,\u001b[49m\u001b[43m \u001b[49m\u001b[43mdtype\u001b[49m\u001b[43m,\u001b[49m\u001b[43m \u001b[49m\u001b[43mcopy\u001b[49m\u001b[38;5;241;43m=\u001b[39;49m\u001b[43mcopy\u001b[49m\u001b[43m,\u001b[49m\u001b[43m \u001b[49m\u001b[43merrors\u001b[49m\u001b[38;5;241;43m=\u001b[39;49m\u001b[43merrors\u001b[49m\u001b[43m)\u001b[49m\n\u001b[0;32m    582\u001b[0m new_values \u001b[38;5;241m=\u001b[39m maybe_coerce_values(new_values)\n\u001b[0;32m    583\u001b[0m newb \u001b[38;5;241m=\u001b[39m \u001b[38;5;28mself\u001b[39m\u001b[38;5;241m.\u001b[39mmake_block(new_values)\n",
      "File \u001b[1;32m~\\anaconda3\\lib\\site-packages\\pandas\\core\\dtypes\\cast.py:1292\u001b[0m, in \u001b[0;36mastype_array_safe\u001b[1;34m(values, dtype, copy, errors)\u001b[0m\n\u001b[0;32m   1289\u001b[0m     dtype \u001b[38;5;241m=\u001b[39m dtype\u001b[38;5;241m.\u001b[39mnumpy_dtype\n\u001b[0;32m   1291\u001b[0m \u001b[38;5;28;01mtry\u001b[39;00m:\n\u001b[1;32m-> 1292\u001b[0m     new_values \u001b[38;5;241m=\u001b[39m \u001b[43mastype_array\u001b[49m\u001b[43m(\u001b[49m\u001b[43mvalues\u001b[49m\u001b[43m,\u001b[49m\u001b[43m \u001b[49m\u001b[43mdtype\u001b[49m\u001b[43m,\u001b[49m\u001b[43m \u001b[49m\u001b[43mcopy\u001b[49m\u001b[38;5;241;43m=\u001b[39;49m\u001b[43mcopy\u001b[49m\u001b[43m)\u001b[49m\n\u001b[0;32m   1293\u001b[0m \u001b[38;5;28;01mexcept\u001b[39;00m (\u001b[38;5;167;01mValueError\u001b[39;00m, \u001b[38;5;167;01mTypeError\u001b[39;00m):\n\u001b[0;32m   1294\u001b[0m     \u001b[38;5;66;03m# e.g. astype_nansafe can fail on object-dtype of strings\u001b[39;00m\n\u001b[0;32m   1295\u001b[0m     \u001b[38;5;66;03m#  trying to convert to float\u001b[39;00m\n\u001b[0;32m   1296\u001b[0m     \u001b[38;5;28;01mif\u001b[39;00m errors \u001b[38;5;241m==\u001b[39m \u001b[38;5;124m\"\u001b[39m\u001b[38;5;124mignore\u001b[39m\u001b[38;5;124m\"\u001b[39m:\n",
      "File \u001b[1;32m~\\anaconda3\\lib\\site-packages\\pandas\\core\\dtypes\\cast.py:1237\u001b[0m, in \u001b[0;36mastype_array\u001b[1;34m(values, dtype, copy)\u001b[0m\n\u001b[0;32m   1234\u001b[0m     values \u001b[38;5;241m=\u001b[39m values\u001b[38;5;241m.\u001b[39mastype(dtype, copy\u001b[38;5;241m=\u001b[39mcopy)\n\u001b[0;32m   1236\u001b[0m \u001b[38;5;28;01melse\u001b[39;00m:\n\u001b[1;32m-> 1237\u001b[0m     values \u001b[38;5;241m=\u001b[39m \u001b[43mastype_nansafe\u001b[49m\u001b[43m(\u001b[49m\u001b[43mvalues\u001b[49m\u001b[43m,\u001b[49m\u001b[43m \u001b[49m\u001b[43mdtype\u001b[49m\u001b[43m,\u001b[49m\u001b[43m \u001b[49m\u001b[43mcopy\u001b[49m\u001b[38;5;241;43m=\u001b[39;49m\u001b[43mcopy\u001b[49m\u001b[43m)\u001b[49m\n\u001b[0;32m   1239\u001b[0m \u001b[38;5;66;03m# in pandas we don't store numpy str dtypes, so convert to object\u001b[39;00m\n\u001b[0;32m   1240\u001b[0m \u001b[38;5;28;01mif\u001b[39;00m \u001b[38;5;28misinstance\u001b[39m(dtype, np\u001b[38;5;241m.\u001b[39mdtype) \u001b[38;5;129;01mand\u001b[39;00m \u001b[38;5;28missubclass\u001b[39m(values\u001b[38;5;241m.\u001b[39mdtype\u001b[38;5;241m.\u001b[39mtype, \u001b[38;5;28mstr\u001b[39m):\n",
      "File \u001b[1;32m~\\anaconda3\\lib\\site-packages\\pandas\\core\\dtypes\\cast.py:1154\u001b[0m, in \u001b[0;36mastype_nansafe\u001b[1;34m(arr, dtype, copy, skipna)\u001b[0m\n\u001b[0;32m   1150\u001b[0m \u001b[38;5;28;01melif\u001b[39;00m is_object_dtype(arr\u001b[38;5;241m.\u001b[39mdtype):\n\u001b[0;32m   1151\u001b[0m \n\u001b[0;32m   1152\u001b[0m     \u001b[38;5;66;03m# work around NumPy brokenness, #1987\u001b[39;00m\n\u001b[0;32m   1153\u001b[0m     \u001b[38;5;28;01mif\u001b[39;00m np\u001b[38;5;241m.\u001b[39missubdtype(dtype\u001b[38;5;241m.\u001b[39mtype, np\u001b[38;5;241m.\u001b[39minteger):\n\u001b[1;32m-> 1154\u001b[0m         \u001b[38;5;28;01mreturn\u001b[39;00m \u001b[43mlib\u001b[49m\u001b[38;5;241;43m.\u001b[39;49m\u001b[43mastype_intsafe\u001b[49m\u001b[43m(\u001b[49m\u001b[43marr\u001b[49m\u001b[43m,\u001b[49m\u001b[43m \u001b[49m\u001b[43mdtype\u001b[49m\u001b[43m)\u001b[49m\n\u001b[0;32m   1156\u001b[0m     \u001b[38;5;66;03m# if we have a datetime/timedelta array of objects\u001b[39;00m\n\u001b[0;32m   1157\u001b[0m     \u001b[38;5;66;03m# then coerce to a proper dtype and recall astype_nansafe\u001b[39;00m\n\u001b[0;32m   1159\u001b[0m     \u001b[38;5;28;01melif\u001b[39;00m is_datetime64_dtype(dtype):\n",
      "File \u001b[1;32m~\\anaconda3\\lib\\site-packages\\pandas\\_libs\\lib.pyx:668\u001b[0m, in \u001b[0;36mpandas._libs.lib.astype_intsafe\u001b[1;34m()\u001b[0m\n",
      "\u001b[1;31mValueError\u001b[0m: invalid literal for int() with base 10: '2100 - 2850'"
     ]
    }
   ],
   "source": [
    "df['total_sqft'].astype(int)"
   ]
  },
  {
   "cell_type": "code",
   "execution_count": 112,
   "id": "7c65e4bf",
   "metadata": {},
   "outputs": [
    {
     "name": "stdout",
     "output_type": "stream",
     "text": [
      "2100 - 2850\n",
      "1330.74\n",
      "3010 - 3410\n",
      "2957 - 3450\n",
      "3067 - 8156\n",
      "1042 - 1105\n",
      "1563.05\n",
      "1145 - 1340\n",
      "1015 - 1540\n",
      "1520 - 1740\n",
      "2023.71\n",
      "1113.27\n",
      "12000\n",
      "34.46Sq. Meter\n",
      "11890\n",
      "1752.12\n",
      "1195 - 1440\n",
      "1200 - 2400\n",
      "12000\n",
      "4125Perch\n",
      "1120 - 1145\n",
      "4400 - 6640\n",
      "3090 - 5002\n",
      "35000\n",
      "4400 - 6800\n",
      "1160 - 1195\n",
      "1000Sq. Meter\n",
      "4000 - 5249\n",
      "10961\n",
      "1115 - 1130\n",
      "1100Sq. Yards\n",
      "520 - 645\n",
      "1000 - 1285\n",
      "3606 - 5091\n",
      "650 - 665\n",
      "633 - 666\n",
      "2112.95\n",
      "5.31Acres\n",
      "30Acres\n",
      "1445 - 1455\n",
      "884 - 1116\n",
      "850 - 1093\n",
      "14000\n",
      "1440 - 1884\n",
      "1558.67\n",
      "3467.86\n",
      "716Sq. Meter\n",
      "547.34 - 827.31\n",
      "804.1\n",
      "580 - 650\n",
      "3425 - 3435\n",
      "1269.72\n",
      "1804 - 2273\n",
      "3630 - 3800\n",
      "660 - 670\n",
      "4000 - 5249\n",
      "1500Sq. Meter\n",
      "620 - 933\n",
      "142.61Sq. Meter\n",
      "2695 - 2940\n",
      "2000 - 5634\n",
      "1574Sq. Yards\n",
      "3450 - 3472\n",
      "52272\n",
      "2479.13\n",
      "2172.65\n",
      "581.91\n",
      "1250 - 1305\n",
      "670 - 980\n",
      "1005.03 - 1252.49\n",
      "3630 - 3800\n",
      "1004 - 1204\n",
      "361.33Sq. Yards\n",
      "1752.12\n",
      "645 - 936\n",
      "2710 - 3360\n",
      "1452.55\n",
      "2249.81 - 4112.19\n",
      "3436 - 3643\n",
      "2830 - 2882\n",
      "596 - 804\n",
      "1776.42\n",
      "11338\n",
      "30000\n",
      "1255 - 1863\n",
      "1300 - 1405\n",
      "1200 - 2400\n",
      "1500 - 2400\n",
      "117Sq. Yards\n",
      "934 - 1437\n",
      "980 - 1030\n",
      "1564 - 1850\n",
      "1452.19\n",
      "1446 - 1506\n",
      "1419.59\n",
      "461.82\n",
      "12000\n",
      "2249.81 - 4112.19\n",
      "1070 - 1315\n",
      "3040Sq. Meter\n",
      "500Sq. Yards\n",
      "1020.07\n",
      "2806 - 3019\n",
      "613 - 648\n",
      "1430 - 1630\n",
      "1451.5\n",
      "704 - 730\n",
      "1584.01\n",
      "1205.47\n",
      "1482 - 1846\n",
      "1689.28\n",
      "2805 - 3565\n",
      "10000\n",
      "1819.18\n",
      "3293 - 5314\n",
      "1210 - 1477\n",
      "3369 - 3464\n",
      "1125 - 1500\n",
      "167Sq. Meter\n",
      "1076 - 1199\n",
      "381 - 535\n",
      "1627.86\n",
      "2215 - 2475\n",
      "524 - 894\n",
      "1369.1\n",
      "1053.4\n",
      "540 - 670\n",
      "315Sq. Yards\n",
      "10000\n",
      "1650 - 2538\n",
      "2725 - 3250\n",
      "1732.46\n",
      "910.2\n",
      "1974 - 2171\n",
      "2006.8\n",
      "888 - 1290\n",
      "1360 - 1890\n",
      "12000\n",
      "2466 - 2856\n",
      "660 - 700\n",
      "385 - 440\n",
      "2100 - 5405\n",
      "770 - 841\n",
      "524 - 894\n",
      "42000\n",
      "3Cents\n",
      "1310 - 1615\n",
      "36000\n",
      "1113.12\n",
      "1782 - 2000\n",
      "1548.3\n",
      "1525.84\n",
      "188.89Sq. Yards\n",
      "1469 - 1766\n",
      "204Sq. Meter\n",
      "1255 - 1350\n",
      "870 - 1080\n",
      "45Sq. Yards\n",
      "2777.29\n",
      "133.3Sq. Yards\n",
      "1554.3\n",
      "3405.1\n",
      "2580 - 2591\n",
      "1652.5\n",
      "613 - 648\n",
      "2563 - 2733\n",
      "605 - 624\n",
      "4260 - 4408\n",
      "1349 - 3324\n",
      "78.03Sq. Meter\n",
      "1208.51\n",
      "1255 - 1350\n",
      "3300 - 3335\n",
      "1180 - 1630\n",
      "1660.4\n",
      "1819.18\n",
      "1365 - 1700\n",
      "3500 - 3600\n",
      "122Sq. Yards\n",
      "2830 - 2882\n",
      "84.53Sq. Meter\n",
      "2.09Acres\n",
      "2830 - 2882\n",
      "1482 - 1684\n",
      "981 - 1249\n",
      "1100 - 1225\n",
      "1565 - 1595\n",
      "24Guntha\n",
      "1270 - 1275\n",
      "840 - 1010\n",
      "697Sq. Meter\n",
      "2830 - 2882\n",
      "655 - 742\n",
      "800 - 2660\n",
      "1107.83\n",
      "1408 - 1455\n",
      "4050 - 4075\n",
      "1266.67\n",
      "942 - 1117\n",
      "1777.26\n",
      "1750 - 2640\n",
      "142.61Sq. Meter\n",
      "1390 - 1600\n",
      "598 - 958\n",
      "1500Cents\n",
      "1752.12\n",
      "1567.2\n",
      "26136\n",
      "132Sq. Yards\n",
      "1691.2\n",
      "1010 - 1300\n",
      "11000\n",
      "2Acres\n",
      "3103 - 3890\n",
      "1450 - 1950\n",
      "2274.24\n",
      "1369.1\n",
      "1100Sq. Meter\n",
      "947.55\n",
      "15Acres\n",
      "3301.8\n",
      "1450 - 1595\n",
      "763 - 805\n",
      "3307 - 3464\n",
      "1.26Acres\n",
      "620 - 934\n",
      "1542.14\n",
      "2144.6\n",
      "2462 - 2467\n",
      "540 - 740\n",
      "10200\n",
      "1618 - 1929\n",
      "20000\n",
      "3508 - 4201\n",
      "2249.81 - 4112.19\n",
      "4900 - 4940\n",
      "1610 - 1880\n",
      "755 - 770\n",
      "1181.7\n",
      "11000\n",
      "664 - 722\n",
      "151.11Sq. Yards\n",
      "700 - 900\n",
      "596 - 861\n",
      "1925 - 2680\n",
      "615 - 985\n",
      "1200 - 2400\n",
      "540 - 565\n",
      "1390 - 1600\n",
      "2087.01\n",
      "750 - 800\n",
      "1660 - 1805\n",
      "1719.3\n",
      "1365 - 1700\n",
      "1410 - 1710\n",
      "1079 - 1183\n",
      "2800 - 2870\n",
      "1230 - 1290\n",
      "943 - 1220\n",
      "2041 - 2090\n",
      "10961\n",
      "1234.6\n",
      "1763.25\n",
      "527 - 639\n",
      "645 - 936\n",
      "2087.01\n",
      "2249.81\n",
      "1Grounds\n",
      "1160 - 1315\n",
      "706 - 716\n",
      "2940Sq. Yards\n",
      "10000\n",
      "1791 - 4000\n",
      "45.06Sq. Meter\n",
      "799 - 803\n",
      "2470 - 2790\n",
      "783 - 943\n",
      "4500 - 5540\n",
      "10030\n",
      "2801.25\n",
      "1688.12\n",
      "1255 - 1375\n",
      "1733.5\n",
      "10624\n",
      "1430 - 1630\n",
      "1777.26\n",
      "610 - 615\n",
      "854 - 960\n",
      "2650 - 2990\n",
      "1.25Acres\n",
      "86.72Sq. Meter\n",
      "381 - 535\n",
      "1230 - 1490\n",
      "3630 - 3800\n",
      "896.9\n",
      "660 - 780\n",
      "1419.59\n",
      "1618 - 1929\n",
      "10000\n",
      "1626.6\n",
      "1150 - 1194\n",
      "684 - 810\n",
      "866.28\n",
      "1584.01\n",
      "1200 - 1800\n",
      "1510 - 1670\n",
      "1248.52\n",
      "1370.07\n",
      "1550 - 1590\n",
      "777.4\n",
      "1752.12\n",
      "1777.26\n",
      "1235 - 1410\n",
      "3484 - 3550\n",
      "1139.7\n",
      "38Guntha\n",
      "1107.83\n",
      "929 - 1078\n",
      "2150 - 2225\n",
      "1520 - 1759\n",
      "2580 - 2591\n",
      "629 - 1026\n",
      "1215 - 1495\n",
      "6Acres\n",
      "1140 - 1250\n",
      "2400 - 2600\n",
      "1052 - 1322\n",
      "5666 - 5669\n",
      "2162.03\n",
      "620 - 934\n",
      "2999.97\n",
      "1950.2\n",
      "712 - 938\n",
      "2171.66\n",
      "1783 - 1878\n",
      "120Sq. Yards\n",
      "1950.2\n",
      "24Sq. Meter\n",
      "2528 - 3188\n",
      "1623.29\n",
      "650 - 760\n",
      "1400 - 1421\n",
      "16335\n",
      "4000 - 4450\n",
      "2087.01\n",
      "142.84Sq. Meter\n",
      "300Sq. Yards\n",
      "2777.29\n",
      "1115 - 1130\n",
      "1932.47\n",
      "2204 - 2362\n",
      "1437 - 1629\n",
      "850 - 1060\n",
      "30400\n",
      "1804 - 2273\n",
      "1200 - 1470\n",
      "5665.84\n",
      "1331.95\n",
      "1020 - 1130\n",
      "1133 - 1384\n",
      "2830 - 2882\n"
     ]
    }
   ],
   "source": [
    "for i in df['total_sqft']:\n",
    "    if len(i)>4:\n",
    "        print(i)"
   ]
  },
  {
   "cell_type": "code",
   "execution_count": 172,
   "id": "149e67c3",
   "metadata": {},
   "outputs": [],
   "source": [
    "def sqft(i):\n",
    "    if i.count('-')>0:\n",
    "        \n",
    "        sq1=i.split('-')\n",
    "        i=((float(sq1[0])+float(sq1[1]))/2)\n",
    "        return i\n",
    "    re.sub()\n"
   ]
  },
  {
   "cell_type": "code",
   "execution_count": 173,
   "id": "3001dce0",
   "metadata": {},
   "outputs": [
    {
     "data": {
      "text/plain": [
       "0        1056\n",
       "1        2600\n",
       "2        1440\n",
       "3        1521\n",
       "4        1200\n",
       "         ... \n",
       "13315    3453\n",
       "13316    3600\n",
       "13317    1141\n",
       "13318    4689\n",
       "13319     550\n",
       "Name: total_sqft, Length: 13320, dtype: object"
      ]
     },
     "execution_count": 173,
     "metadata": {},
     "output_type": "execute_result"
    }
   ],
   "source": [
    "df['total_sqft']=df['total_sqft'].apply(sqft)\n",
    "df['total_sqft']"
   ]
  },
  {
   "cell_type": "code",
   "execution_count": 189,
   "id": "147626b5",
   "metadata": {},
   "outputs": [
    {
     "data": {
      "text/plain": [
       "'142.84'"
      ]
     },
     "execution_count": 189,
     "metadata": {},
     "output_type": "execute_result"
    }
   ],
   "source": [
    "str1='142.84Sq. Meter'\n",
    "str2=re.sub('[a-zA-Z]','',str1)\n",
    "str3=re.sub(' ','',str2)\n",
    "str4=re.sub('.$','',str3)\n",
    "str4"
   ]
  },
  {
   "cell_type": "code",
   "execution_count": 190,
   "id": "328d4914",
   "metadata": {},
   "outputs": [
    {
     "data": {
      "text/plain": [
       "'120'"
      ]
     },
     "execution_count": 190,
     "metadata": {},
     "output_type": "execute_result"
    }
   ],
   "source": [
    "str1='120Sq. Yards'\n",
    "str2=re.sub('[a-zA-Z]','',str1)\n",
    "str3=re.sub(' ','',str2)\n",
    "str4=re.sub('.$','',str3)\n",
    "str4"
   ]
  },
  {
   "cell_type": "code",
   "execution_count": 191,
   "id": "a0a3990f",
   "metadata": {},
   "outputs": [
    {
     "data": {
      "text/plain": [
       "''"
      ]
     },
     "execution_count": 191,
     "metadata": {},
     "output_type": "execute_result"
    }
   ],
   "source": [
    "\n",
    "str1='6Acres'\n",
    "str2=re.sub('[a-zA-Z]','',str1)\n",
    "str3=re.sub(' ','',str2)\n",
    "str4=re.sub('.$','',str3)\n",
    "str4"
   ]
  },
  {
   "cell_type": "code",
   "execution_count": 193,
   "id": "c66ce806",
   "metadata": {},
   "outputs": [
    {
     "data": {
      "text/plain": [
       "array(['1056', '2600', '1440', ..., 1258.5, '774', '4689'], dtype=object)"
      ]
     },
     "execution_count": 193,
     "metadata": {},
     "output_type": "execute_result"
    }
   ],
   "source": [
    "df['total_sqft'].unique()"
   ]
  },
  {
   "cell_type": "code",
   "execution_count": null,
   "id": "ccd94046",
   "metadata": {},
   "outputs": [],
   "source": []
  }
 ],
 "metadata": {
  "kernelspec": {
   "display_name": "Python 3 (ipykernel)",
   "language": "python",
   "name": "python3"
  },
  "language_info": {
   "codemirror_mode": {
    "name": "ipython",
    "version": 3
   },
   "file_extension": ".py",
   "mimetype": "text/x-python",
   "name": "python",
   "nbconvert_exporter": "python",
   "pygments_lexer": "ipython3",
   "version": "3.9.12"
  }
 },
 "nbformat": 4,
 "nbformat_minor": 5
}
