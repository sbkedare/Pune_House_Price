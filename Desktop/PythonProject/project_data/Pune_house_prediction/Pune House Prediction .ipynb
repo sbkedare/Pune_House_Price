{
 "cells": [
  {
   "cell_type": "code",
   "execution_count": 561,
   "id": "a830f91c",
   "metadata": {},
   "outputs": [],
   "source": [
    "import numpy as np\n",
    "import pandas as pd\n",
    "\n",
    "from sklearn.model_selection import train_test_split,GridSearchCV,RandomizedSearchCV\n",
    "from sklearn.linear_model import LinearRegression\n",
    "from sklearn.neighbors import KNeighborsClassifier\n",
    "from sklearn.tree import DecisionTreeRegressor\n",
    "from sklearn.ensemble import RandomForestRegressor\n",
    "from sklearn.metrics import r2_score,mean_absolute_error,mean_squared_error\n",
    "from sklearn.impute import KNNImputer\n",
    "from sklearn.preprocessing import StandardScaler\n",
    "\n",
    "\n",
    "import matplotlib.pyplot as plt\n",
    "import seaborn as sns\n",
    "import re\n",
    "import pickle"
   ]
  },
  {
   "cell_type": "markdown",
   "id": "37bc9d6b",
   "metadata": {},
   "source": [
    "## 1. Data Gathering "
   ]
  },
  {
   "cell_type": "code",
   "execution_count": 250,
   "id": "a8433f19",
   "metadata": {},
   "outputs": [
    {
     "data": {
      "text/html": [
       "<div>\n",
       "<style scoped>\n",
       "    .dataframe tbody tr th:only-of-type {\n",
       "        vertical-align: middle;\n",
       "    }\n",
       "\n",
       "    .dataframe tbody tr th {\n",
       "        vertical-align: top;\n",
       "    }\n",
       "\n",
       "    .dataframe thead th {\n",
       "        text-align: right;\n",
       "    }\n",
       "</style>\n",
       "<table border=\"1\" class=\"dataframe\">\n",
       "  <thead>\n",
       "    <tr style=\"text-align: right;\">\n",
       "      <th></th>\n",
       "      <th>area_type</th>\n",
       "      <th>availability</th>\n",
       "      <th>size</th>\n",
       "      <th>society</th>\n",
       "      <th>total_sqft</th>\n",
       "      <th>bath</th>\n",
       "      <th>balcony</th>\n",
       "      <th>price</th>\n",
       "      <th>site_location</th>\n",
       "    </tr>\n",
       "  </thead>\n",
       "  <tbody>\n",
       "    <tr>\n",
       "      <th>0</th>\n",
       "      <td>Super built-up  Area</td>\n",
       "      <td>19-Dec</td>\n",
       "      <td>2 BHK</td>\n",
       "      <td>Coomee</td>\n",
       "      <td>1056</td>\n",
       "      <td>2.0</td>\n",
       "      <td>1.0</td>\n",
       "      <td>39.07</td>\n",
       "      <td>Alandi Road</td>\n",
       "    </tr>\n",
       "    <tr>\n",
       "      <th>1</th>\n",
       "      <td>Plot  Area</td>\n",
       "      <td>Ready To Move</td>\n",
       "      <td>4 Bedroom</td>\n",
       "      <td>Theanmp</td>\n",
       "      <td>2600</td>\n",
       "      <td>5.0</td>\n",
       "      <td>3.0</td>\n",
       "      <td>120.00</td>\n",
       "      <td>Ambegaon Budruk</td>\n",
       "    </tr>\n",
       "    <tr>\n",
       "      <th>2</th>\n",
       "      <td>Built-up  Area</td>\n",
       "      <td>Ready To Move</td>\n",
       "      <td>3 BHK</td>\n",
       "      <td>NaN</td>\n",
       "      <td>1440</td>\n",
       "      <td>2.0</td>\n",
       "      <td>3.0</td>\n",
       "      <td>62.00</td>\n",
       "      <td>Anandnagar</td>\n",
       "    </tr>\n",
       "    <tr>\n",
       "      <th>3</th>\n",
       "      <td>Super built-up  Area</td>\n",
       "      <td>Ready To Move</td>\n",
       "      <td>3 BHK</td>\n",
       "      <td>Soiewre</td>\n",
       "      <td>1521</td>\n",
       "      <td>3.0</td>\n",
       "      <td>1.0</td>\n",
       "      <td>95.00</td>\n",
       "      <td>Aundh</td>\n",
       "    </tr>\n",
       "    <tr>\n",
       "      <th>4</th>\n",
       "      <td>Super built-up  Area</td>\n",
       "      <td>Ready To Move</td>\n",
       "      <td>2 BHK</td>\n",
       "      <td>NaN</td>\n",
       "      <td>1200</td>\n",
       "      <td>2.0</td>\n",
       "      <td>1.0</td>\n",
       "      <td>51.00</td>\n",
       "      <td>Aundh Road</td>\n",
       "    </tr>\n",
       "    <tr>\n",
       "      <th>...</th>\n",
       "      <td>...</td>\n",
       "      <td>...</td>\n",
       "      <td>...</td>\n",
       "      <td>...</td>\n",
       "      <td>...</td>\n",
       "      <td>...</td>\n",
       "      <td>...</td>\n",
       "      <td>...</td>\n",
       "      <td>...</td>\n",
       "    </tr>\n",
       "    <tr>\n",
       "      <th>13315</th>\n",
       "      <td>Built-up  Area</td>\n",
       "      <td>Ready To Move</td>\n",
       "      <td>5 Bedroom</td>\n",
       "      <td>ArsiaEx</td>\n",
       "      <td>3453</td>\n",
       "      <td>4.0</td>\n",
       "      <td>0.0</td>\n",
       "      <td>231.00</td>\n",
       "      <td>Pashan</td>\n",
       "    </tr>\n",
       "    <tr>\n",
       "      <th>13316</th>\n",
       "      <td>Super built-up  Area</td>\n",
       "      <td>Ready To Move</td>\n",
       "      <td>4 BHK</td>\n",
       "      <td>NaN</td>\n",
       "      <td>3600</td>\n",
       "      <td>5.0</td>\n",
       "      <td>NaN</td>\n",
       "      <td>400.00</td>\n",
       "      <td>Paud Road</td>\n",
       "    </tr>\n",
       "    <tr>\n",
       "      <th>13317</th>\n",
       "      <td>Built-up  Area</td>\n",
       "      <td>Ready To Move</td>\n",
       "      <td>2 BHK</td>\n",
       "      <td>Mahla T</td>\n",
       "      <td>1141</td>\n",
       "      <td>2.0</td>\n",
       "      <td>1.0</td>\n",
       "      <td>60.00</td>\n",
       "      <td>Pirangut</td>\n",
       "    </tr>\n",
       "    <tr>\n",
       "      <th>13318</th>\n",
       "      <td>Super built-up  Area</td>\n",
       "      <td>18-Jun</td>\n",
       "      <td>4 BHK</td>\n",
       "      <td>SollyCl</td>\n",
       "      <td>4689</td>\n",
       "      <td>4.0</td>\n",
       "      <td>1.0</td>\n",
       "      <td>488.00</td>\n",
       "      <td>Prabhat Road</td>\n",
       "    </tr>\n",
       "    <tr>\n",
       "      <th>13319</th>\n",
       "      <td>Super built-up  Area</td>\n",
       "      <td>Ready To Move</td>\n",
       "      <td>1 BHK</td>\n",
       "      <td>NaN</td>\n",
       "      <td>550</td>\n",
       "      <td>1.0</td>\n",
       "      <td>1.0</td>\n",
       "      <td>17.00</td>\n",
       "      <td>Pune Railway Station</td>\n",
       "    </tr>\n",
       "  </tbody>\n",
       "</table>\n",
       "<p>13320 rows × 9 columns</p>\n",
       "</div>"
      ],
      "text/plain": [
       "                  area_type   availability       size  society total_sqft  \\\n",
       "0      Super built-up  Area         19-Dec      2 BHK  Coomee        1056   \n",
       "1                Plot  Area  Ready To Move  4 Bedroom  Theanmp       2600   \n",
       "2            Built-up  Area  Ready To Move      3 BHK      NaN       1440   \n",
       "3      Super built-up  Area  Ready To Move      3 BHK  Soiewre       1521   \n",
       "4      Super built-up  Area  Ready To Move      2 BHK      NaN       1200   \n",
       "...                     ...            ...        ...      ...        ...   \n",
       "13315        Built-up  Area  Ready To Move  5 Bedroom  ArsiaEx       3453   \n",
       "13316  Super built-up  Area  Ready To Move      4 BHK      NaN       3600   \n",
       "13317        Built-up  Area  Ready To Move      2 BHK  Mahla T       1141   \n",
       "13318  Super built-up  Area         18-Jun      4 BHK  SollyCl       4689   \n",
       "13319  Super built-up  Area  Ready To Move      1 BHK      NaN        550   \n",
       "\n",
       "       bath  balcony   price         site_location  \n",
       "0       2.0      1.0   39.07           Alandi Road  \n",
       "1       5.0      3.0  120.00       Ambegaon Budruk  \n",
       "2       2.0      3.0   62.00            Anandnagar  \n",
       "3       3.0      1.0   95.00                 Aundh  \n",
       "4       2.0      1.0   51.00            Aundh Road  \n",
       "...     ...      ...     ...                   ...  \n",
       "13315   4.0      0.0  231.00                Pashan  \n",
       "13316   5.0      NaN  400.00             Paud Road  \n",
       "13317   2.0      1.0   60.00              Pirangut  \n",
       "13318   4.0      1.0  488.00          Prabhat Road  \n",
       "13319   1.0      1.0   17.00  Pune Railway Station  \n",
       "\n",
       "[13320 rows x 9 columns]"
      ]
     },
     "execution_count": 250,
     "metadata": {},
     "output_type": "execute_result"
    }
   ],
   "source": [
    "df=pd.read_csv('Pune_house_data.csv')\n",
    "df"
   ]
  },
  {
   "cell_type": "markdown",
   "id": "71f7ca9c",
   "metadata": {},
   "source": [
    "## 2 EDA "
   ]
  },
  {
   "cell_type": "code",
   "execution_count": 224,
   "id": "84de2fb6",
   "metadata": {},
   "outputs": [
    {
     "name": "stdout",
     "output_type": "stream",
     "text": [
      "<class 'pandas.core.frame.DataFrame'>\n",
      "RangeIndex: 13320 entries, 0 to 13319\n",
      "Data columns (total 9 columns):\n",
      " #   Column         Non-Null Count  Dtype  \n",
      "---  ------         --------------  -----  \n",
      " 0   area_type      13320 non-null  object \n",
      " 1   availability   13320 non-null  object \n",
      " 2   size           13304 non-null  object \n",
      " 3   society        7818 non-null   object \n",
      " 4   total_sqft     13320 non-null  object \n",
      " 5   bath           13247 non-null  float64\n",
      " 6   balcony        12711 non-null  float64\n",
      " 7   price          13320 non-null  float64\n",
      " 8   site_location  13319 non-null  object \n",
      "dtypes: float64(3), object(6)\n",
      "memory usage: 936.7+ KB\n"
     ]
    }
   ],
   "source": [
    "df.info()"
   ]
  },
  {
   "cell_type": "markdown",
   "id": "633f7aad",
   "metadata": {},
   "source": [
    "### analyzing each feature and converting into appropriate fromat"
   ]
  },
  {
   "cell_type": "markdown",
   "id": "22d3ee55",
   "metadata": {},
   "source": [
    "##### 1. 'area_type' analysis"
   ]
  },
  {
   "cell_type": "code",
   "execution_count": 251,
   "id": "5d82127a",
   "metadata": {},
   "outputs": [
    {
     "data": {
      "text/plain": [
       "Super built-up  Area    8790\n",
       "Built-up  Area          2418\n",
       "Plot  Area              2025\n",
       "Carpet  Area              87\n",
       "Name: area_type, dtype: int64"
      ]
     },
     "execution_count": 251,
     "metadata": {},
     "output_type": "execute_result"
    }
   ],
   "source": [
    "df['area_type'].value_counts()  ## 4 types of areas are present"
   ]
  },
  {
   "cell_type": "code",
   "execution_count": 252,
   "id": "a7ad877d",
   "metadata": {},
   "outputs": [
    {
     "data": {
      "text/plain": [
       "{'Super built-up  Area': 8790,\n",
       " 'Built-up  Area': 2418,\n",
       " 'Plot  Area': 2025,\n",
       " 'Carpet  Area': 87}"
      ]
     },
     "execution_count": 252,
     "metadata": {},
     "output_type": "execute_result"
    }
   ],
   "source": [
    "df['area_type'].value_counts().to_dict()"
   ]
  },
  {
   "cell_type": "code",
   "execution_count": 253,
   "id": "7d41e5cf",
   "metadata": {},
   "outputs": [],
   "source": [
    "df['area_type'].replace({'Super built-up  Area': 0,\n",
    " 'Built-up  Area': 1,\n",
    " 'Plot  Area': 2,\n",
    " 'Carpet  Area': 3},inplace=True)"
   ]
  },
  {
   "cell_type": "code",
   "execution_count": 254,
   "id": "696f8060",
   "metadata": {},
   "outputs": [
    {
     "data": {
      "text/plain": [
       "0    8790\n",
       "1    2418\n",
       "2    2025\n",
       "3      87\n",
       "Name: area_type, dtype: int64"
      ]
     },
     "execution_count": 254,
     "metadata": {},
     "output_type": "execute_result"
    }
   ],
   "source": [
    "df['area_type'].value_counts()"
   ]
  },
  {
   "cell_type": "code",
   "execution_count": 255,
   "id": "ce293caa",
   "metadata": {},
   "outputs": [
    {
     "data": {
      "text/plain": [
       "0"
      ]
     },
     "execution_count": 255,
     "metadata": {},
     "output_type": "execute_result"
    }
   ],
   "source": [
    "df['area_type'].isna().sum()"
   ]
  },
  {
   "cell_type": "markdown",
   "id": "1e212532",
   "metadata": {},
   "source": [
    "##### 2. 'availability' analysis"
   ]
  },
  {
   "cell_type": "code",
   "execution_count": 256,
   "id": "b9ff4e86",
   "metadata": {},
   "outputs": [
    {
     "data": {
      "text/plain": [
       "Ready To Move    10581\n",
       "18-Dec             307\n",
       "18-May             295\n",
       "18-Apr             271\n",
       "18-Aug             200\n",
       "                 ...  \n",
       "15-Aug               1\n",
       "17-Jan               1\n",
       "16-Nov               1\n",
       "16-Jan               1\n",
       "14-Jul               1\n",
       "Name: availability, Length: 81, dtype: int64"
      ]
     },
     "execution_count": 256,
     "metadata": {},
     "output_type": "execute_result"
    }
   ],
   "source": [
    "df['availability'].value_counts()"
   ]
  },
  {
   "cell_type": "code",
   "execution_count": 257,
   "id": "1a853204",
   "metadata": {},
   "outputs": [
    {
     "data": {
      "text/plain": [
       "array(['19-Dec', 'Ready To Move', '18-May', '18-Feb', '18-Nov', '20-Dec',\n",
       "       '17-Oct', '21-Dec', '19-Sep', '20-Sep', '18-Mar', '20-Feb',\n",
       "       '18-Apr', '20-Aug', '18-Oct', '19-Mar', '17-Sep', '18-Dec',\n",
       "       '17-Aug', '19-Apr', '18-Jun', '22-Dec', '22-Jan', '18-Aug',\n",
       "       '19-Jan', '17-Jul', '18-Jul', '21-Jun', '20-May', '19-Aug',\n",
       "       '18-Sep', '17-May', '17-Jun', '21-May', '18-Jan', '20-Mar',\n",
       "       '17-Dec', '16-Mar', '19-Jun', '22-Jun', '19-Jul', '21-Feb',\n",
       "       'Immediate Possession', '19-May', '17-Nov', '20-Oct', '20-Jun',\n",
       "       '19-Feb', '21-Oct', '21-Jan', '17-Mar', '17-Apr', '22-May',\n",
       "       '19-Oct', '21-Jul', '21-Nov', '21-Mar', '16-Dec', '22-Mar',\n",
       "       '20-Jan', '21-Sep', '21-Aug', '14-Nov', '19-Nov', '15-Nov',\n",
       "       '16-Jul', '15-Jun', '17-Feb', '20-Nov', '20-Jul', '16-Sep',\n",
       "       '15-Oct', '15-Dec', '16-Oct', '22-Nov', '15-Aug', '17-Jan',\n",
       "       '16-Nov', '20-Apr', '16-Jan', '14-Jul'], dtype=object)"
      ]
     },
     "execution_count": 257,
     "metadata": {},
     "output_type": "execute_result"
    }
   ],
   "source": [
    "df['availability'].unique()"
   ]
  },
  {
   "cell_type": "code",
   "execution_count": null,
   "id": "223e9aea",
   "metadata": {},
   "outputs": [],
   "source": [
    "# ## pending\n",
    "# 19-Jan  >> 2019-01 >> 2019+1/12\n",
    "# 18-Dec  >> 2018-12 >> 2018+12/12\n",
    "# 18-May  >> 2018-05 >> 2018+05/12          \n",
    "# 18-Apr  >> 2018-04           \n",
    "# 18-Aug  >> 2018-08           \n",
    "# 15-Aug  >> 2015-08\n",
    "# 15-Oct  >> 2015-10\n",
    "# 15-Jan  >> 2015-01\n",
    "# 15-Feb  >> 2015-02"
   ]
  },
  {
   "cell_type": "code",
   "execution_count": 66,
   "id": "07b65223",
   "metadata": {},
   "outputs": [],
   "source": [
    "df['availability'].replace({'Ready To Move':22,'Immediate Possession':22},inplace=True)"
   ]
  },
  {
   "cell_type": "code",
   "execution_count": 67,
   "id": "a0b5cdd5",
   "metadata": {},
   "outputs": [
    {
     "data": {
      "text/plain": [
       "22        10597\n",
       "18-Dec      307\n",
       "18-May      295\n",
       "18-Apr      271\n",
       "18-Aug      200\n",
       "          ...  \n",
       "15-Aug        1\n",
       "17-Jan        1\n",
       "16-Nov        1\n",
       "16-Jan        1\n",
       "14-Jul        1\n",
       "Name: availability, Length: 80, dtype: int64"
      ]
     },
     "execution_count": 67,
     "metadata": {},
     "output_type": "execute_result"
    }
   ],
   "source": [
    "df['availability'].value_counts()"
   ]
  },
  {
   "cell_type": "code",
   "execution_count": 72,
   "id": "608d220e",
   "metadata": {},
   "outputs": [
    {
     "data": {
      "text/plain": [
       "13320"
      ]
     },
     "execution_count": 72,
     "metadata": {},
     "output_type": "execute_result"
    }
   ],
   "source": [
    "avail=[]\n",
    "\n",
    "for i in df['availability']:\n",
    "    yr=str(i)[0:2]\n",
    "    avail.append(int(yr))\n",
    "len(avail)    "
   ]
  },
  {
   "cell_type": "code",
   "execution_count": 232,
   "id": "a059a35e",
   "metadata": {},
   "outputs": [],
   "source": [
    "df['yr_availability']=avail"
   ]
  },
  {
   "cell_type": "code",
   "execution_count": 258,
   "id": "e86df39f",
   "metadata": {},
   "outputs": [],
   "source": [
    "df.drop('availability',inplace=True, axis=1)"
   ]
  },
  {
   "cell_type": "code",
   "execution_count": 234,
   "id": "6911e83d",
   "metadata": {},
   "outputs": [
    {
     "data": {
      "text/html": [
       "<div>\n",
       "<style scoped>\n",
       "    .dataframe tbody tr th:only-of-type {\n",
       "        vertical-align: middle;\n",
       "    }\n",
       "\n",
       "    .dataframe tbody tr th {\n",
       "        vertical-align: top;\n",
       "    }\n",
       "\n",
       "    .dataframe thead th {\n",
       "        text-align: right;\n",
       "    }\n",
       "</style>\n",
       "<table border=\"1\" class=\"dataframe\">\n",
       "  <thead>\n",
       "    <tr style=\"text-align: right;\">\n",
       "      <th></th>\n",
       "      <th>area_type</th>\n",
       "      <th>size</th>\n",
       "      <th>society</th>\n",
       "      <th>total_sqft</th>\n",
       "      <th>bath</th>\n",
       "      <th>balcony</th>\n",
       "      <th>price</th>\n",
       "      <th>site_location</th>\n",
       "      <th>yr_availability</th>\n",
       "    </tr>\n",
       "  </thead>\n",
       "  <tbody>\n",
       "    <tr>\n",
       "      <th>0</th>\n",
       "      <td>0</td>\n",
       "      <td>2 BHK</td>\n",
       "      <td>Coomee</td>\n",
       "      <td>1056</td>\n",
       "      <td>2.0</td>\n",
       "      <td>1.0</td>\n",
       "      <td>39.07</td>\n",
       "      <td>Alandi Road</td>\n",
       "      <td>19</td>\n",
       "    </tr>\n",
       "    <tr>\n",
       "      <th>1</th>\n",
       "      <td>2</td>\n",
       "      <td>4 Bedroom</td>\n",
       "      <td>Theanmp</td>\n",
       "      <td>2600</td>\n",
       "      <td>5.0</td>\n",
       "      <td>3.0</td>\n",
       "      <td>120.00</td>\n",
       "      <td>Ambegaon Budruk</td>\n",
       "      <td>22</td>\n",
       "    </tr>\n",
       "    <tr>\n",
       "      <th>2</th>\n",
       "      <td>1</td>\n",
       "      <td>3 BHK</td>\n",
       "      <td>NaN</td>\n",
       "      <td>1440</td>\n",
       "      <td>2.0</td>\n",
       "      <td>3.0</td>\n",
       "      <td>62.00</td>\n",
       "      <td>Anandnagar</td>\n",
       "      <td>22</td>\n",
       "    </tr>\n",
       "    <tr>\n",
       "      <th>3</th>\n",
       "      <td>0</td>\n",
       "      <td>3 BHK</td>\n",
       "      <td>Soiewre</td>\n",
       "      <td>1521</td>\n",
       "      <td>3.0</td>\n",
       "      <td>1.0</td>\n",
       "      <td>95.00</td>\n",
       "      <td>Aundh</td>\n",
       "      <td>22</td>\n",
       "    </tr>\n",
       "    <tr>\n",
       "      <th>4</th>\n",
       "      <td>0</td>\n",
       "      <td>2 BHK</td>\n",
       "      <td>NaN</td>\n",
       "      <td>1200</td>\n",
       "      <td>2.0</td>\n",
       "      <td>1.0</td>\n",
       "      <td>51.00</td>\n",
       "      <td>Aundh Road</td>\n",
       "      <td>22</td>\n",
       "    </tr>\n",
       "    <tr>\n",
       "      <th>...</th>\n",
       "      <td>...</td>\n",
       "      <td>...</td>\n",
       "      <td>...</td>\n",
       "      <td>...</td>\n",
       "      <td>...</td>\n",
       "      <td>...</td>\n",
       "      <td>...</td>\n",
       "      <td>...</td>\n",
       "      <td>...</td>\n",
       "    </tr>\n",
       "    <tr>\n",
       "      <th>13315</th>\n",
       "      <td>1</td>\n",
       "      <td>5 Bedroom</td>\n",
       "      <td>ArsiaEx</td>\n",
       "      <td>3453</td>\n",
       "      <td>4.0</td>\n",
       "      <td>0.0</td>\n",
       "      <td>231.00</td>\n",
       "      <td>Pashan</td>\n",
       "      <td>22</td>\n",
       "    </tr>\n",
       "    <tr>\n",
       "      <th>13316</th>\n",
       "      <td>0</td>\n",
       "      <td>4 BHK</td>\n",
       "      <td>NaN</td>\n",
       "      <td>3600</td>\n",
       "      <td>5.0</td>\n",
       "      <td>NaN</td>\n",
       "      <td>400.00</td>\n",
       "      <td>Paud Road</td>\n",
       "      <td>22</td>\n",
       "    </tr>\n",
       "    <tr>\n",
       "      <th>13317</th>\n",
       "      <td>1</td>\n",
       "      <td>2 BHK</td>\n",
       "      <td>Mahla T</td>\n",
       "      <td>1141</td>\n",
       "      <td>2.0</td>\n",
       "      <td>1.0</td>\n",
       "      <td>60.00</td>\n",
       "      <td>Pirangut</td>\n",
       "      <td>22</td>\n",
       "    </tr>\n",
       "    <tr>\n",
       "      <th>13318</th>\n",
       "      <td>0</td>\n",
       "      <td>4 BHK</td>\n",
       "      <td>SollyCl</td>\n",
       "      <td>4689</td>\n",
       "      <td>4.0</td>\n",
       "      <td>1.0</td>\n",
       "      <td>488.00</td>\n",
       "      <td>Prabhat Road</td>\n",
       "      <td>18</td>\n",
       "    </tr>\n",
       "    <tr>\n",
       "      <th>13319</th>\n",
       "      <td>0</td>\n",
       "      <td>1 BHK</td>\n",
       "      <td>NaN</td>\n",
       "      <td>550</td>\n",
       "      <td>1.0</td>\n",
       "      <td>1.0</td>\n",
       "      <td>17.00</td>\n",
       "      <td>Pune Railway Station</td>\n",
       "      <td>22</td>\n",
       "    </tr>\n",
       "  </tbody>\n",
       "</table>\n",
       "<p>13320 rows × 9 columns</p>\n",
       "</div>"
      ],
      "text/plain": [
       "       area_type       size  society total_sqft  bath  balcony   price  \\\n",
       "0              0      2 BHK  Coomee        1056   2.0      1.0   39.07   \n",
       "1              2  4 Bedroom  Theanmp       2600   5.0      3.0  120.00   \n",
       "2              1      3 BHK      NaN       1440   2.0      3.0   62.00   \n",
       "3              0      3 BHK  Soiewre       1521   3.0      1.0   95.00   \n",
       "4              0      2 BHK      NaN       1200   2.0      1.0   51.00   \n",
       "...          ...        ...      ...        ...   ...      ...     ...   \n",
       "13315          1  5 Bedroom  ArsiaEx       3453   4.0      0.0  231.00   \n",
       "13316          0      4 BHK      NaN       3600   5.0      NaN  400.00   \n",
       "13317          1      2 BHK  Mahla T       1141   2.0      1.0   60.00   \n",
       "13318          0      4 BHK  SollyCl       4689   4.0      1.0  488.00   \n",
       "13319          0      1 BHK      NaN        550   1.0      1.0   17.00   \n",
       "\n",
       "              site_location  yr_availability  \n",
       "0               Alandi Road               19  \n",
       "1           Ambegaon Budruk               22  \n",
       "2                Anandnagar               22  \n",
       "3                     Aundh               22  \n",
       "4                Aundh Road               22  \n",
       "...                     ...              ...  \n",
       "13315                Pashan               22  \n",
       "13316             Paud Road               22  \n",
       "13317              Pirangut               22  \n",
       "13318          Prabhat Road               18  \n",
       "13319  Pune Railway Station               22  \n",
       "\n",
       "[13320 rows x 9 columns]"
      ]
     },
     "execution_count": 234,
     "metadata": {},
     "output_type": "execute_result"
    }
   ],
   "source": [
    "df"
   ]
  },
  {
   "cell_type": "code",
   "execution_count": 235,
   "id": "fed0fe64",
   "metadata": {
    "scrolled": true
   },
   "outputs": [
    {
     "name": "stdout",
     "output_type": "stream",
     "text": [
      "<class 'pandas.core.frame.DataFrame'>\n",
      "RangeIndex: 13320 entries, 0 to 13319\n",
      "Data columns (total 9 columns):\n",
      " #   Column           Non-Null Count  Dtype  \n",
      "---  ------           --------------  -----  \n",
      " 0   area_type        13320 non-null  int64  \n",
      " 1   size             13304 non-null  object \n",
      " 2   society          7818 non-null   object \n",
      " 3   total_sqft       13320 non-null  object \n",
      " 4   bath             13247 non-null  float64\n",
      " 5   balcony          12711 non-null  float64\n",
      " 6   price            13320 non-null  float64\n",
      " 7   site_location    13319 non-null  object \n",
      " 8   yr_availability  13320 non-null  int64  \n",
      "dtypes: float64(3), int64(2), object(4)\n",
      "memory usage: 936.7+ KB\n"
     ]
    }
   ],
   "source": [
    "df.info()"
   ]
  },
  {
   "cell_type": "markdown",
   "id": "255543d5",
   "metadata": {},
   "source": [
    "##### 3. 'size' analysis"
   ]
  },
  {
   "cell_type": "code",
   "execution_count": 259,
   "id": "2f6c11e0",
   "metadata": {},
   "outputs": [
    {
     "data": {
      "text/plain": [
       "2 BHK         5199\n",
       "3 BHK         4310\n",
       "4 Bedroom      826\n",
       "4 BHK          591\n",
       "3 Bedroom      547\n",
       "1 BHK          538\n",
       "2 Bedroom      329\n",
       "5 Bedroom      297\n",
       "6 Bedroom      191\n",
       "1 Bedroom      105\n",
       "8 Bedroom       84\n",
       "7 Bedroom       83\n",
       "5 BHK           59\n",
       "9 Bedroom       46\n",
       "6 BHK           30\n",
       "7 BHK           17\n",
       "1 RK            13\n",
       "10 Bedroom      12\n",
       "9 BHK            8\n",
       "8 BHK            5\n",
       "11 BHK           2\n",
       "11 Bedroom       2\n",
       "10 BHK           2\n",
       "14 BHK           1\n",
       "13 BHK           1\n",
       "12 Bedroom       1\n",
       "27 BHK           1\n",
       "43 Bedroom       1\n",
       "16 BHK           1\n",
       "19 BHK           1\n",
       "18 Bedroom       1\n",
       "Name: size, dtype: int64"
      ]
     },
     "execution_count": 259,
     "metadata": {},
     "output_type": "execute_result"
    }
   ],
   "source": [
    "df['size'].value_counts()"
   ]
  },
  {
   "cell_type": "code",
   "execution_count": 260,
   "id": "76142adc",
   "metadata": {},
   "outputs": [],
   "source": [
    "df['size'].replace({'2 BHK': 2,\n",
    " '3 BHK': 3,\n",
    " '4 Bedroom': 4,\n",
    " '4 BHK': 4,\n",
    " '3 Bedroom': 3,\n",
    " '1 BHK': 1,\n",
    " '2 Bedroom': 2,\n",
    " '5 Bedroom': 5,\n",
    " '6 Bedroom': 6,\n",
    " '1 Bedroom': 1,\n",
    " '8 Bedroom': 8,\n",
    " '7 Bedroom': 7,\n",
    " '5 BHK': 5,\n",
    " '9 Bedroom': 9,\n",
    " '6 BHK': 6,\n",
    " '7 BHK': 7,\n",
    " '1 RK': 0.5,\n",
    " '10 Bedroom': 10,\n",
    " '9 BHK': 9,\n",
    " '8 BHK': 8,\n",
    " '11 BHK': 11,\n",
    " '11 Bedroom': 11,\n",
    " '10 BHK': 10,\n",
    " '14 BHK': 14,\n",
    " '13 BHK': 13,\n",
    " '12 Bedroom': 12,\n",
    " '27 BHK': 27,\n",
    " '43 Bedroom': 43,\n",
    " '16 BHK': 16,\n",
    " '19 BHK': 19,\n",
    " '18 Bedroom': 18},inplace=True)"
   ]
  },
  {
   "cell_type": "code",
   "execution_count": 261,
   "id": "ae0b3b43",
   "metadata": {},
   "outputs": [
    {
     "name": "stdout",
     "output_type": "stream",
     "text": [
      "<class 'pandas.core.frame.DataFrame'>\n",
      "RangeIndex: 13320 entries, 0 to 13319\n",
      "Data columns (total 8 columns):\n",
      " #   Column         Non-Null Count  Dtype  \n",
      "---  ------         --------------  -----  \n",
      " 0   area_type      13320 non-null  int64  \n",
      " 1   size           13304 non-null  float64\n",
      " 2   society        7818 non-null   object \n",
      " 3   total_sqft     13320 non-null  object \n",
      " 4   bath           13247 non-null  float64\n",
      " 5   balcony        12711 non-null  float64\n",
      " 6   price          13320 non-null  float64\n",
      " 7   site_location  13319 non-null  object \n",
      "dtypes: float64(4), int64(1), object(3)\n",
      "memory usage: 832.6+ KB\n"
     ]
    }
   ],
   "source": [
    "df.info()"
   ]
  },
  {
   "cell_type": "markdown",
   "id": "cd1b14b9",
   "metadata": {},
   "source": [
    "##### 4. 'society' analysis"
   ]
  },
  {
   "cell_type": "code",
   "execution_count": 262,
   "id": "9a431e9c",
   "metadata": {},
   "outputs": [
    {
     "data": {
      "text/plain": [
       "GrrvaGr    80\n",
       "PrarePa    76\n",
       "Sryalan    59\n",
       "Prtates    59\n",
       "GMown E    56\n",
       "           ..\n",
       "Amionce     1\n",
       "JaghtDe     1\n",
       "Jauraht     1\n",
       "Brity U     1\n",
       "RSntsAp     1\n",
       "Name: society, Length: 2688, dtype: int64"
      ]
     },
     "execution_count": 262,
     "metadata": {},
     "output_type": "execute_result"
    }
   ],
   "source": [
    "df[\"society\"].value_counts() #dropping this"
   ]
  },
  {
   "cell_type": "code",
   "execution_count": 263,
   "id": "81b68591",
   "metadata": {},
   "outputs": [],
   "source": [
    "df.drop('society',inplace=True,axis=1)"
   ]
  },
  {
   "cell_type": "code",
   "execution_count": 264,
   "id": "4ea9156a",
   "metadata": {},
   "outputs": [
    {
     "name": "stdout",
     "output_type": "stream",
     "text": [
      "<class 'pandas.core.frame.DataFrame'>\n",
      "RangeIndex: 13320 entries, 0 to 13319\n",
      "Data columns (total 7 columns):\n",
      " #   Column         Non-Null Count  Dtype  \n",
      "---  ------         --------------  -----  \n",
      " 0   area_type      13320 non-null  int64  \n",
      " 1   size           13304 non-null  float64\n",
      " 2   total_sqft     13320 non-null  object \n",
      " 3   bath           13247 non-null  float64\n",
      " 4   balcony        12711 non-null  float64\n",
      " 5   price          13320 non-null  float64\n",
      " 6   site_location  13319 non-null  object \n",
      "dtypes: float64(4), int64(1), object(2)\n",
      "memory usage: 728.6+ KB\n"
     ]
    }
   ],
   "source": [
    "df.info()"
   ]
  },
  {
   "cell_type": "code",
   "execution_count": 242,
   "id": "51d35918",
   "metadata": {},
   "outputs": [],
   "source": []
  },
  {
   "cell_type": "markdown",
   "id": "b20ac7c3",
   "metadata": {},
   "source": [
    "##### 5. 'total_sqft ' analysis"
   ]
  },
  {
   "cell_type": "code",
   "execution_count": 244,
   "id": "4e58b55d",
   "metadata": {},
   "outputs": [],
   "source": [
    "# df['total_sqft'].astype(int) #error"
   ]
  },
  {
   "cell_type": "code",
   "execution_count": 306,
   "id": "b4b72c0c",
   "metadata": {},
   "outputs": [],
   "source": [
    "def sqft(i):\n",
    "    # replacin range type sq area to mean of the range \n",
    "    if i.count('-')>0:\n",
    "#         print(i)\n",
    "        sq1=i.split('-')\n",
    "        i=((float(sq1[0])+float(sq1[1]))/2)\n",
    "#         print(i)\n",
    "    \n",
    "    elif i.count('Sq. Meter')==1:\n",
    "#         print(i)\n",
    "        return int(float(i.split('Sq. Meter')[0])*10.76)\n",
    "    elif i.count('Sq. Yards')==1:\n",
    "#         print(i)\n",
    "        return int(float(i.split('Sq. Yards')[0])*9)\n",
    "    elif i.count('Acres')==1:\n",
    "#         print(i)\n",
    "        return int(float(i.split('Acres')[0])*43560)\n",
    "    elif i.count('Guntha')==1:\n",
    "#         print(i)\n",
    "        return int(float(i.split('Guntha')[0])*1076.39)\n",
    "    elif i.count('Cents')==1:\n",
    "#         print(i)\n",
    "        return int(float(i.split('Cents')[0])*1)\n",
    "    elif i.count('Perch')==1:\n",
    "#         print(i)\n",
    "        return int(float(i.split('Perch')[0])*272.25)\n",
    "    elif i.count('Grounds')==1:\n",
    "        print(i)\n",
    "        return int(float(i.split('Grounds')[0])*2400)\n",
    "    return i\n",
    "\n",
    "\n"
   ]
  },
  {
   "cell_type": "code",
   "execution_count": 316,
   "id": "8919203e",
   "metadata": {},
   "outputs": [],
   "source": [
    "df['total_sqft1']=df['total_sqft'].apply(sqft)"
   ]
  },
  {
   "cell_type": "code",
   "execution_count": null,
   "id": "ac5b0481",
   "metadata": {},
   "outputs": [],
   "source": [
    "df.drop('total_sqft',axis=1,inplace=True)"
   ]
  },
  {
   "cell_type": "code",
   "execution_count": 317,
   "id": "e8faa5f5",
   "metadata": {},
   "outputs": [],
   "source": [
    "df['total_sqft1']=df['total_sqft1'].astype(float)"
   ]
  },
  {
   "cell_type": "code",
   "execution_count": 318,
   "id": "c157bf49",
   "metadata": {},
   "outputs": [
    {
     "name": "stdout",
     "output_type": "stream",
     "text": [
      "<class 'pandas.core.frame.DataFrame'>\n",
      "RangeIndex: 13320 entries, 0 to 13319\n",
      "Data columns (total 7 columns):\n",
      " #   Column         Non-Null Count  Dtype  \n",
      "---  ------         --------------  -----  \n",
      " 0   area_type      13320 non-null  int64  \n",
      " 1   size           13304 non-null  float64\n",
      " 2   bath           13247 non-null  float64\n",
      " 3   balcony        12711 non-null  float64\n",
      " 4   price          13320 non-null  float64\n",
      " 5   site_location  13319 non-null  object \n",
      " 6   total_sqft1    13320 non-null  float64\n",
      "dtypes: float64(5), int64(1), object(1)\n",
      "memory usage: 728.6+ KB\n"
     ]
    }
   ],
   "source": [
    "df.info()"
   ]
  },
  {
   "cell_type": "markdown",
   "id": "ed5c09db",
   "metadata": {},
   "source": [
    "##### 5. 'site_location' analysis"
   ]
  },
  {
   "cell_type": "code",
   "execution_count": 355,
   "id": "1968744d",
   "metadata": {},
   "outputs": [],
   "source": [
    "site_dict=df['site_location'].value_counts().to_dict()"
   ]
  },
  {
   "cell_type": "code",
   "execution_count": 362,
   "id": "5347b2e7",
   "metadata": {},
   "outputs": [],
   "source": [
    "for i,v in enumerate(site_dict):\n",
    "    site_dict[v]=i+1"
   ]
  },
  {
   "cell_type": "code",
   "execution_count": 363,
   "id": "ffcb0229",
   "metadata": {},
   "outputs": [
    {
     "data": {
      "text/plain": [
       "{'Alandi Road': 1,\n",
       " 'Kalyani Nagar': 2,\n",
       " 'Mahatma Gandhi Road': 3,\n",
       " 'Lulla Nagar': 4,\n",
       " 'Laxmi Road': 5,\n",
       " 'Law College Road': 6,\n",
       " 'Ambegaon Budruk': 7,\n",
       " 'Koregaon Park': 8,\n",
       " 'Kondhwa Khurd': 9,\n",
       " 'Kondhwa Budruk': 10,\n",
       " 'Kondhwa': 11,\n",
       " 'Kharadi': 12,\n",
       " 'Khadki': 13,\n",
       " 'Khadaki': 14,\n",
       " 'Katraj': 15,\n",
       " 'Kasba Peth': 16,\n",
       " 'Karve Road': 17,\n",
       " 'Mangalwar peth': 18,\n",
       " 'Manik Bagh': 19,\n",
       " 'Market yard': 20,\n",
       " 'Padmavati': 21,\n",
       " 'Pune Railway Station': 22,\n",
       " 'Prabhat Road': 23,\n",
       " 'Pirangut': 24,\n",
       " 'Paud Road': 25,\n",
       " 'Pashan': 26,\n",
       " 'Parvati Darshan': 27,\n",
       " 'Navi Peth': 28,\n",
       " 'Model colony': 29,\n",
       " 'Narayangaon': 30,\n",
       " 'Narayan Peth': 31,\n",
       " 'Nana Peth': 32,\n",
       " 'Nagar Road': 33,\n",
       " 'Mundhawa': 34,\n",
       " 'Mukund Nagar': 35,\n",
       " 'Karve Nagar': 36,\n",
       " 'Kothrud': 37,\n",
       " 'Jangali Maharaj Road': 38,\n",
       " 'Bhavani Peth': 39,\n",
       " 'Chandan Nagar': 40,\n",
       " 'Camp': 41,\n",
       " 'Bund Garden Road': 42,\n",
       " 'Budhwar Peth': 43,\n",
       " 'Bopodi': 44,\n",
       " 'Bibvewadi': 45,\n",
       " 'Bhandarkar Road': 46,\n",
       " 'Deccan Gymkhana': 47,\n",
       " 'Baner road': 48,\n",
       " 'Baner': 49,\n",
       " 'Hingne Khurd': 50,\n",
       " 'Aundh Road': 51,\n",
       " 'Aundh': 52,\n",
       " 'Anandnagar': 53,\n",
       " 'Dapodi': 54,\n",
       " 'Balaji Nagar': 55,\n",
       " 'Dehu Road': 56,\n",
       " 'Ganeshkhind': 57,\n",
       " 'Dhankawadi': 58,\n",
       " 'Hadapsar Industrial Estate': 59,\n",
       " 'Guruwar peth': 60,\n",
       " 'Gultekdi': 61,\n",
       " 'Gokhale Nagar': 62,\n",
       " 'Ghorpade Peth': 63,\n",
       " 'Hadapsar': 64,\n",
       " 'Ganesh Peth': 65,\n",
       " 'Dhayari Phata': 66,\n",
       " 'Fergusson College Road': 67,\n",
       " 'Fatima Nagar': 68,\n",
       " 'Erandwane': 69,\n",
       " 'Dhole Patil Road': 70,\n",
       " 'Tilak Road': 71,\n",
       " 'Uruli Devachi': 72,\n",
       " 'Vadgaon Budruk': 73,\n",
       " 'Wadgaon Sheri': 74,\n",
       " 'Viman Nagar': 75,\n",
       " 'Wakadewadi': 76,\n",
       " 'Vishrant Wadi': 77,\n",
       " 'Wagholi': 78,\n",
       " 'Yerawada': 79,\n",
       " 'Wanowrie': 80,\n",
       " 'Warje': 81,\n",
       " 'Somwar Peth': 82,\n",
       " 'Swargate': 83,\n",
       " 'Sasson Road': 84,\n",
       " 'Sinhagad Road': 85,\n",
       " 'Shukrawar Peth': 86,\n",
       " 'Shivaji Nagar': 87,\n",
       " 'Shaniwar Peth': 88,\n",
       " 'Senapati Bapat Road': 89,\n",
       " 'Satara Road': 90,\n",
       " 'Salunke Vihar': 91,\n",
       " 'Sahakar Nagar': 92,\n",
       " 'Sadashiv Peth': 93,\n",
       " 'Raviwar Peth': 94,\n",
       " 'Rasta Peth': 95,\n",
       " 'Ghorpadi': 96,\n",
       " 'other': 97}"
      ]
     },
     "execution_count": 363,
     "metadata": {},
     "output_type": "execute_result"
    }
   ],
   "source": [
    "site_dict"
   ]
  },
  {
   "cell_type": "code",
   "execution_count": 365,
   "id": "01ce311e",
   "metadata": {},
   "outputs": [],
   "source": [
    "df.replace(site_dict,inplace=True)"
   ]
  },
  {
   "cell_type": "code",
   "execution_count": 366,
   "id": "d8f7f77c",
   "metadata": {},
   "outputs": [
    {
     "name": "stdout",
     "output_type": "stream",
     "text": [
      "<class 'pandas.core.frame.DataFrame'>\n",
      "RangeIndex: 13320 entries, 0 to 13319\n",
      "Data columns (total 7 columns):\n",
      " #   Column         Non-Null Count  Dtype  \n",
      "---  ------         --------------  -----  \n",
      " 0   area_type      13320 non-null  int64  \n",
      " 1   size           13304 non-null  float64\n",
      " 2   bath           13247 non-null  float64\n",
      " 3   balcony        12711 non-null  float64\n",
      " 4   price          13320 non-null  float64\n",
      " 5   site_location  13319 non-null  float64\n",
      " 6   total_sqft1    13320 non-null  float64\n",
      "dtypes: float64(6), int64(1)\n",
      "memory usage: 728.6 KB\n"
     ]
    }
   ],
   "source": [
    "df.info()"
   ]
  },
  {
   "cell_type": "markdown",
   "id": "83804915",
   "metadata": {},
   "source": [
    "#### balcony"
   ]
  },
  {
   "cell_type": "code",
   "execution_count": 376,
   "id": "224bd75d",
   "metadata": {},
   "outputs": [],
   "source": [
    "#dropping balcony\n",
    "\n",
    "df.drop('balcony',axis=1,inplace=True)\n"
   ]
  },
  {
   "cell_type": "code",
   "execution_count": 382,
   "id": "86edaff9",
   "metadata": {},
   "outputs": [],
   "source": [
    "df.drop('bath',axis=1,inplace=True)"
   ]
  },
  {
   "cell_type": "code",
   "execution_count": 468,
   "id": "1af20377",
   "metadata": {},
   "outputs": [
    {
     "name": "stdout",
     "output_type": "stream",
     "text": [
      "<class 'pandas.core.frame.DataFrame'>\n",
      "RangeIndex: 13320 entries, 0 to 13319\n",
      "Data columns (total 5 columns):\n",
      " #   Column         Non-Null Count  Dtype  \n",
      "---  ------         --------------  -----  \n",
      " 0   area_type      13320 non-null  int64  \n",
      " 1   size           13304 non-null  float64\n",
      " 2   price          13320 non-null  float64\n",
      " 3   site_location  13319 non-null  float64\n",
      " 4   total_sqft1    13320 non-null  float64\n",
      "dtypes: float64(4), int64(1)\n",
      "memory usage: 520.4 KB\n"
     ]
    }
   ],
   "source": [
    "df.info()"
   ]
  },
  {
   "cell_type": "code",
   "execution_count": 469,
   "id": "b757350e",
   "metadata": {},
   "outputs": [],
   "source": [
    "##KNN imputation for bath and size\n",
    "\n",
    "knn_impu=KNNImputer()\n",
    "df1=knn_impu.fit_transform(df)\n",
    "type(df1)\n",
    "final_df=pd.DataFrame(df1,columns=df.columns)"
   ]
  },
  {
   "cell_type": "code",
   "execution_count": 470,
   "id": "90a8db4f",
   "metadata": {},
   "outputs": [
    {
     "data": {
      "text/html": [
       "<div>\n",
       "<style scoped>\n",
       "    .dataframe tbody tr th:only-of-type {\n",
       "        vertical-align: middle;\n",
       "    }\n",
       "\n",
       "    .dataframe tbody tr th {\n",
       "        vertical-align: top;\n",
       "    }\n",
       "\n",
       "    .dataframe thead th {\n",
       "        text-align: right;\n",
       "    }\n",
       "</style>\n",
       "<table border=\"1\" class=\"dataframe\">\n",
       "  <thead>\n",
       "    <tr style=\"text-align: right;\">\n",
       "      <th></th>\n",
       "      <th>area_type</th>\n",
       "      <th>size</th>\n",
       "      <th>price</th>\n",
       "      <th>site_location</th>\n",
       "      <th>total_sqft1</th>\n",
       "    </tr>\n",
       "  </thead>\n",
       "  <tbody>\n",
       "    <tr>\n",
       "      <th>0</th>\n",
       "      <td>0.0</td>\n",
       "      <td>2.0</td>\n",
       "      <td>39.07</td>\n",
       "      <td>1.0</td>\n",
       "      <td>1056.0</td>\n",
       "    </tr>\n",
       "    <tr>\n",
       "      <th>1</th>\n",
       "      <td>2.0</td>\n",
       "      <td>4.0</td>\n",
       "      <td>120.00</td>\n",
       "      <td>7.0</td>\n",
       "      <td>2600.0</td>\n",
       "    </tr>\n",
       "    <tr>\n",
       "      <th>2</th>\n",
       "      <td>1.0</td>\n",
       "      <td>3.0</td>\n",
       "      <td>62.00</td>\n",
       "      <td>53.0</td>\n",
       "      <td>1440.0</td>\n",
       "    </tr>\n",
       "    <tr>\n",
       "      <th>3</th>\n",
       "      <td>0.0</td>\n",
       "      <td>3.0</td>\n",
       "      <td>95.00</td>\n",
       "      <td>52.0</td>\n",
       "      <td>1521.0</td>\n",
       "    </tr>\n",
       "    <tr>\n",
       "      <th>4</th>\n",
       "      <td>0.0</td>\n",
       "      <td>2.0</td>\n",
       "      <td>51.00</td>\n",
       "      <td>51.0</td>\n",
       "      <td>1200.0</td>\n",
       "    </tr>\n",
       "    <tr>\n",
       "      <th>...</th>\n",
       "      <td>...</td>\n",
       "      <td>...</td>\n",
       "      <td>...</td>\n",
       "      <td>...</td>\n",
       "      <td>...</td>\n",
       "    </tr>\n",
       "    <tr>\n",
       "      <th>13315</th>\n",
       "      <td>1.0</td>\n",
       "      <td>5.0</td>\n",
       "      <td>231.00</td>\n",
       "      <td>26.0</td>\n",
       "      <td>3453.0</td>\n",
       "    </tr>\n",
       "    <tr>\n",
       "      <th>13316</th>\n",
       "      <td>0.0</td>\n",
       "      <td>4.0</td>\n",
       "      <td>400.00</td>\n",
       "      <td>25.0</td>\n",
       "      <td>3600.0</td>\n",
       "    </tr>\n",
       "    <tr>\n",
       "      <th>13317</th>\n",
       "      <td>1.0</td>\n",
       "      <td>2.0</td>\n",
       "      <td>60.00</td>\n",
       "      <td>24.0</td>\n",
       "      <td>1141.0</td>\n",
       "    </tr>\n",
       "    <tr>\n",
       "      <th>13318</th>\n",
       "      <td>0.0</td>\n",
       "      <td>4.0</td>\n",
       "      <td>488.00</td>\n",
       "      <td>23.0</td>\n",
       "      <td>4689.0</td>\n",
       "    </tr>\n",
       "    <tr>\n",
       "      <th>13319</th>\n",
       "      <td>0.0</td>\n",
       "      <td>1.0</td>\n",
       "      <td>17.00</td>\n",
       "      <td>22.0</td>\n",
       "      <td>550.0</td>\n",
       "    </tr>\n",
       "  </tbody>\n",
       "</table>\n",
       "<p>13320 rows × 5 columns</p>\n",
       "</div>"
      ],
      "text/plain": [
       "       area_type  size   price  site_location  total_sqft1\n",
       "0            0.0   2.0   39.07            1.0       1056.0\n",
       "1            2.0   4.0  120.00            7.0       2600.0\n",
       "2            1.0   3.0   62.00           53.0       1440.0\n",
       "3            0.0   3.0   95.00           52.0       1521.0\n",
       "4            0.0   2.0   51.00           51.0       1200.0\n",
       "...          ...   ...     ...            ...          ...\n",
       "13315        1.0   5.0  231.00           26.0       3453.0\n",
       "13316        0.0   4.0  400.00           25.0       3600.0\n",
       "13317        1.0   2.0   60.00           24.0       1141.0\n",
       "13318        0.0   4.0  488.00           23.0       4689.0\n",
       "13319        0.0   1.0   17.00           22.0        550.0\n",
       "\n",
       "[13320 rows x 5 columns]"
      ]
     },
     "execution_count": 470,
     "metadata": {},
     "output_type": "execute_result"
    }
   ],
   "source": [
    "final_df"
   ]
  },
  {
   "cell_type": "code",
   "execution_count": 471,
   "id": "6f247eec",
   "metadata": {},
   "outputs": [],
   "source": [
    "final_df = final_df[['area_type', 'site_location', 'size', 'total_sqft1','price']]"
   ]
  },
  {
   "cell_type": "code",
   "execution_count": 472,
   "id": "6ddc55c3",
   "metadata": {},
   "outputs": [
    {
     "data": {
      "text/html": [
       "<div>\n",
       "<style scoped>\n",
       "    .dataframe tbody tr th:only-of-type {\n",
       "        vertical-align: middle;\n",
       "    }\n",
       "\n",
       "    .dataframe tbody tr th {\n",
       "        vertical-align: top;\n",
       "    }\n",
       "\n",
       "    .dataframe thead th {\n",
       "        text-align: right;\n",
       "    }\n",
       "</style>\n",
       "<table border=\"1\" class=\"dataframe\">\n",
       "  <thead>\n",
       "    <tr style=\"text-align: right;\">\n",
       "      <th></th>\n",
       "      <th>area_type</th>\n",
       "      <th>site_location</th>\n",
       "      <th>size</th>\n",
       "      <th>total_sqft1</th>\n",
       "      <th>price</th>\n",
       "    </tr>\n",
       "  </thead>\n",
       "  <tbody>\n",
       "    <tr>\n",
       "      <th>0</th>\n",
       "      <td>0.0</td>\n",
       "      <td>1.0</td>\n",
       "      <td>2.0</td>\n",
       "      <td>1056.0</td>\n",
       "      <td>39.07</td>\n",
       "    </tr>\n",
       "    <tr>\n",
       "      <th>1</th>\n",
       "      <td>2.0</td>\n",
       "      <td>7.0</td>\n",
       "      <td>4.0</td>\n",
       "      <td>2600.0</td>\n",
       "      <td>120.00</td>\n",
       "    </tr>\n",
       "    <tr>\n",
       "      <th>2</th>\n",
       "      <td>1.0</td>\n",
       "      <td>53.0</td>\n",
       "      <td>3.0</td>\n",
       "      <td>1440.0</td>\n",
       "      <td>62.00</td>\n",
       "    </tr>\n",
       "    <tr>\n",
       "      <th>3</th>\n",
       "      <td>0.0</td>\n",
       "      <td>52.0</td>\n",
       "      <td>3.0</td>\n",
       "      <td>1521.0</td>\n",
       "      <td>95.00</td>\n",
       "    </tr>\n",
       "    <tr>\n",
       "      <th>4</th>\n",
       "      <td>0.0</td>\n",
       "      <td>51.0</td>\n",
       "      <td>2.0</td>\n",
       "      <td>1200.0</td>\n",
       "      <td>51.00</td>\n",
       "    </tr>\n",
       "    <tr>\n",
       "      <th>...</th>\n",
       "      <td>...</td>\n",
       "      <td>...</td>\n",
       "      <td>...</td>\n",
       "      <td>...</td>\n",
       "      <td>...</td>\n",
       "    </tr>\n",
       "    <tr>\n",
       "      <th>13315</th>\n",
       "      <td>1.0</td>\n",
       "      <td>26.0</td>\n",
       "      <td>5.0</td>\n",
       "      <td>3453.0</td>\n",
       "      <td>231.00</td>\n",
       "    </tr>\n",
       "    <tr>\n",
       "      <th>13316</th>\n",
       "      <td>0.0</td>\n",
       "      <td>25.0</td>\n",
       "      <td>4.0</td>\n",
       "      <td>3600.0</td>\n",
       "      <td>400.00</td>\n",
       "    </tr>\n",
       "    <tr>\n",
       "      <th>13317</th>\n",
       "      <td>1.0</td>\n",
       "      <td>24.0</td>\n",
       "      <td>2.0</td>\n",
       "      <td>1141.0</td>\n",
       "      <td>60.00</td>\n",
       "    </tr>\n",
       "    <tr>\n",
       "      <th>13318</th>\n",
       "      <td>0.0</td>\n",
       "      <td>23.0</td>\n",
       "      <td>4.0</td>\n",
       "      <td>4689.0</td>\n",
       "      <td>488.00</td>\n",
       "    </tr>\n",
       "    <tr>\n",
       "      <th>13319</th>\n",
       "      <td>0.0</td>\n",
       "      <td>22.0</td>\n",
       "      <td>1.0</td>\n",
       "      <td>550.0</td>\n",
       "      <td>17.00</td>\n",
       "    </tr>\n",
       "  </tbody>\n",
       "</table>\n",
       "<p>13320 rows × 5 columns</p>\n",
       "</div>"
      ],
      "text/plain": [
       "       area_type  site_location  size  total_sqft1   price\n",
       "0            0.0            1.0   2.0       1056.0   39.07\n",
       "1            2.0            7.0   4.0       2600.0  120.00\n",
       "2            1.0           53.0   3.0       1440.0   62.00\n",
       "3            0.0           52.0   3.0       1521.0   95.00\n",
       "4            0.0           51.0   2.0       1200.0   51.00\n",
       "...          ...            ...   ...          ...     ...\n",
       "13315        1.0           26.0   5.0       3453.0  231.00\n",
       "13316        0.0           25.0   4.0       3600.0  400.00\n",
       "13317        1.0           24.0   2.0       1141.0   60.00\n",
       "13318        0.0           23.0   4.0       4689.0  488.00\n",
       "13319        0.0           22.0   1.0        550.0   17.00\n",
       "\n",
       "[13320 rows x 5 columns]"
      ]
     },
     "execution_count": 472,
     "metadata": {},
     "output_type": "execute_result"
    }
   ],
   "source": [
    "final_df"
   ]
  },
  {
   "cell_type": "code",
   "execution_count": 395,
   "id": "2f85ff2b",
   "metadata": {},
   "outputs": [
    {
     "data": {
      "text/html": [
       "<div>\n",
       "<style scoped>\n",
       "    .dataframe tbody tr th:only-of-type {\n",
       "        vertical-align: middle;\n",
       "    }\n",
       "\n",
       "    .dataframe tbody tr th {\n",
       "        vertical-align: top;\n",
       "    }\n",
       "\n",
       "    .dataframe thead th {\n",
       "        text-align: right;\n",
       "    }\n",
       "</style>\n",
       "<table border=\"1\" class=\"dataframe\">\n",
       "  <thead>\n",
       "    <tr style=\"text-align: right;\">\n",
       "      <th></th>\n",
       "      <th>area_type</th>\n",
       "      <th>site_location</th>\n",
       "      <th>size</th>\n",
       "      <th>total_sqft1</th>\n",
       "      <th>price</th>\n",
       "    </tr>\n",
       "  </thead>\n",
       "  <tbody>\n",
       "    <tr>\n",
       "      <th>area_type</th>\n",
       "      <td>1.000000</td>\n",
       "      <td>-0.016151</td>\n",
       "      <td>0.376287</td>\n",
       "      <td>0.035798</td>\n",
       "      <td>0.237181</td>\n",
       "    </tr>\n",
       "    <tr>\n",
       "      <th>site_location</th>\n",
       "      <td>-0.016151</td>\n",
       "      <td>1.000000</td>\n",
       "      <td>-0.004719</td>\n",
       "      <td>0.014765</td>\n",
       "      <td>-0.013070</td>\n",
       "    </tr>\n",
       "    <tr>\n",
       "      <th>size</th>\n",
       "      <td>0.376287</td>\n",
       "      <td>-0.004719</td>\n",
       "      <td>1.000000</td>\n",
       "      <td>0.045418</td>\n",
       "      <td>0.398417</td>\n",
       "    </tr>\n",
       "    <tr>\n",
       "      <th>total_sqft1</th>\n",
       "      <td>0.035798</td>\n",
       "      <td>0.014765</td>\n",
       "      <td>0.045418</td>\n",
       "      <td>1.000000</td>\n",
       "      <td>0.048267</td>\n",
       "    </tr>\n",
       "    <tr>\n",
       "      <th>price</th>\n",
       "      <td>0.237181</td>\n",
       "      <td>-0.013070</td>\n",
       "      <td>0.398417</td>\n",
       "      <td>0.048267</td>\n",
       "      <td>1.000000</td>\n",
       "    </tr>\n",
       "  </tbody>\n",
       "</table>\n",
       "</div>"
      ],
      "text/plain": [
       "               area_type  site_location      size  total_sqft1     price\n",
       "area_type       1.000000      -0.016151  0.376287     0.035798  0.237181\n",
       "site_location  -0.016151       1.000000 -0.004719     0.014765 -0.013070\n",
       "size            0.376287      -0.004719  1.000000     0.045418  0.398417\n",
       "total_sqft1     0.035798       0.014765  0.045418     1.000000  0.048267\n",
       "price           0.237181      -0.013070  0.398417     0.048267  1.000000"
      ]
     },
     "execution_count": 395,
     "metadata": {},
     "output_type": "execute_result"
    }
   ],
   "source": [
    "final_df.corr()"
   ]
  },
  {
   "cell_type": "code",
   "execution_count": 403,
   "id": "1af29c7d",
   "metadata": {},
   "outputs": [
    {
     "data": {
      "text/plain": [
       "<AxesSubplot:>"
      ]
     },
     "execution_count": 403,
     "metadata": {},
     "output_type": "execute_result"
    },
    {
     "data": {
      "image/png": "[encoded data removed]",
      "text/plain": [
       "<Figure size 432x288 with 2 Axes>"
      ]
     },
     "metadata": {
      "needs_background": "light"
     },
     "output_type": "display_data"
    }
   ],
   "source": [
    "sns.heatmap(final_df.corr(),annot=True)"
   ]
  },
  {
   "cell_type": "markdown",
   "id": "d197b4a4",
   "metadata": {},
   "source": [
    "### linear Regression"
   ]
  },
  {
   "cell_type": "code",
   "execution_count": 418,
   "id": "f388b9a8",
   "metadata": {},
   "outputs": [],
   "source": [
    "saved_df=final_df"
   ]
  },
  {
   "cell_type": "code",
   "execution_count": 459,
   "id": "0ae99f5d",
   "metadata": {},
   "outputs": [
    {
     "data": {
      "text/html": [
       "<div>\n",
       "<style scoped>\n",
       "    .dataframe tbody tr th:only-of-type {\n",
       "        vertical-align: middle;\n",
       "    }\n",
       "\n",
       "    .dataframe tbody tr th {\n",
       "        vertical-align: top;\n",
       "    }\n",
       "\n",
       "    .dataframe thead th {\n",
       "        text-align: right;\n",
       "    }\n",
       "</style>\n",
       "<table border=\"1\" class=\"dataframe\">\n",
       "  <thead>\n",
       "    <tr style=\"text-align: right;\">\n",
       "      <th></th>\n",
       "      <th>area_type</th>\n",
       "      <th>site_location</th>\n",
       "      <th>size</th>\n",
       "      <th>price</th>\n",
       "    </tr>\n",
       "  </thead>\n",
       "  <tbody>\n",
       "    <tr>\n",
       "      <th>0</th>\n",
       "      <td>0.0</td>\n",
       "      <td>1.0</td>\n",
       "      <td>2.0</td>\n",
       "      <td>39.07</td>\n",
       "    </tr>\n",
       "    <tr>\n",
       "      <th>1</th>\n",
       "      <td>2.0</td>\n",
       "      <td>7.0</td>\n",
       "      <td>4.0</td>\n",
       "      <td>120.00</td>\n",
       "    </tr>\n",
       "    <tr>\n",
       "      <th>2</th>\n",
       "      <td>1.0</td>\n",
       "      <td>53.0</td>\n",
       "      <td>3.0</td>\n",
       "      <td>62.00</td>\n",
       "    </tr>\n",
       "    <tr>\n",
       "      <th>3</th>\n",
       "      <td>0.0</td>\n",
       "      <td>52.0</td>\n",
       "      <td>3.0</td>\n",
       "      <td>95.00</td>\n",
       "    </tr>\n",
       "    <tr>\n",
       "      <th>4</th>\n",
       "      <td>0.0</td>\n",
       "      <td>51.0</td>\n",
       "      <td>2.0</td>\n",
       "      <td>51.00</td>\n",
       "    </tr>\n",
       "    <tr>\n",
       "      <th>...</th>\n",
       "      <td>...</td>\n",
       "      <td>...</td>\n",
       "      <td>...</td>\n",
       "      <td>...</td>\n",
       "    </tr>\n",
       "    <tr>\n",
       "      <th>13315</th>\n",
       "      <td>1.0</td>\n",
       "      <td>26.0</td>\n",
       "      <td>5.0</td>\n",
       "      <td>231.00</td>\n",
       "    </tr>\n",
       "    <tr>\n",
       "      <th>13316</th>\n",
       "      <td>0.0</td>\n",
       "      <td>25.0</td>\n",
       "      <td>4.0</td>\n",
       "      <td>400.00</td>\n",
       "    </tr>\n",
       "    <tr>\n",
       "      <th>13317</th>\n",
       "      <td>1.0</td>\n",
       "      <td>24.0</td>\n",
       "      <td>2.0</td>\n",
       "      <td>60.00</td>\n",
       "    </tr>\n",
       "    <tr>\n",
       "      <th>13318</th>\n",
       "      <td>0.0</td>\n",
       "      <td>23.0</td>\n",
       "      <td>4.0</td>\n",
       "      <td>488.00</td>\n",
       "    </tr>\n",
       "    <tr>\n",
       "      <th>13319</th>\n",
       "      <td>0.0</td>\n",
       "      <td>22.0</td>\n",
       "      <td>1.0</td>\n",
       "      <td>17.00</td>\n",
       "    </tr>\n",
       "  </tbody>\n",
       "</table>\n",
       "<p>13320 rows × 4 columns</p>\n",
       "</div>"
      ],
      "text/plain": [
       "       area_type  site_location  size   price\n",
       "0            0.0            1.0   2.0   39.07\n",
       "1            2.0            7.0   4.0  120.00\n",
       "2            1.0           53.0   3.0   62.00\n",
       "3            0.0           52.0   3.0   95.00\n",
       "4            0.0           51.0   2.0   51.00\n",
       "...          ...            ...   ...     ...\n",
       "13315        1.0           26.0   5.0  231.00\n",
       "13316        0.0           25.0   4.0  400.00\n",
       "13317        1.0           24.0   2.0   60.00\n",
       "13318        0.0           23.0   4.0  488.00\n",
       "13319        0.0           22.0   1.0   17.00\n",
       "\n",
       "[13320 rows x 4 columns]"
      ]
     },
     "execution_count": 459,
     "metadata": {},
     "output_type": "execute_result"
    }
   ],
   "source": [
    "saved_df"
   ]
  },
  {
   "cell_type": "code",
   "execution_count": 460,
   "id": "91639d2f",
   "metadata": {},
   "outputs": [
    {
     "name": "stderr",
     "output_type": "stream",
     "text": [
      "C:\\Windows\\Temp\\ipykernel_2092\\3092467911.py:1: SettingWithCopyWarning: \n",
      "A value is trying to be set on a copy of a slice from a DataFrame\n",
      "\n",
      "See the caveats in the documentation: https://pandas.pydata.org/pandas-docs/stable/user_guide/indexing.html#returning-a-view-versus-a-copy\n",
      "  final_df.drop(['area_type'],axis=1,inplace=True)\n"
     ]
    }
   ],
   "source": [
    "final_df.drop(['area_type'],axis=1,inplace=True)"
   ]
  },
  {
   "cell_type": "code",
   "execution_count": 461,
   "id": "eb0aab4d",
   "metadata": {},
   "outputs": [
    {
     "data": {
      "text/html": [
       "<div>\n",
       "<style scoped>\n",
       "    .dataframe tbody tr th:only-of-type {\n",
       "        vertical-align: middle;\n",
       "    }\n",
       "\n",
       "    .dataframe tbody tr th {\n",
       "        vertical-align: top;\n",
       "    }\n",
       "\n",
       "    .dataframe thead th {\n",
       "        text-align: right;\n",
       "    }\n",
       "</style>\n",
       "<table border=\"1\" class=\"dataframe\">\n",
       "  <thead>\n",
       "    <tr style=\"text-align: right;\">\n",
       "      <th></th>\n",
       "      <th>site_location</th>\n",
       "      <th>size</th>\n",
       "    </tr>\n",
       "  </thead>\n",
       "  <tbody>\n",
       "    <tr>\n",
       "      <th>0</th>\n",
       "      <td>1.0</td>\n",
       "      <td>2.0</td>\n",
       "    </tr>\n",
       "    <tr>\n",
       "      <th>1</th>\n",
       "      <td>7.0</td>\n",
       "      <td>4.0</td>\n",
       "    </tr>\n",
       "    <tr>\n",
       "      <th>2</th>\n",
       "      <td>53.0</td>\n",
       "      <td>3.0</td>\n",
       "    </tr>\n",
       "    <tr>\n",
       "      <th>3</th>\n",
       "      <td>52.0</td>\n",
       "      <td>3.0</td>\n",
       "    </tr>\n",
       "    <tr>\n",
       "      <th>4</th>\n",
       "      <td>51.0</td>\n",
       "      <td>2.0</td>\n",
       "    </tr>\n",
       "  </tbody>\n",
       "</table>\n",
       "</div>"
      ],
      "text/plain": [
       "   site_location  size\n",
       "0            1.0   2.0\n",
       "1            7.0   4.0\n",
       "2           53.0   3.0\n",
       "3           52.0   3.0\n",
       "4           51.0   2.0"
      ]
     },
     "execution_count": 461,
     "metadata": {},
     "output_type": "execute_result"
    }
   ],
   "source": [
    "x=final_df.drop('price',axis=1)\n",
    "y=final_df['price']\n",
    "\n",
    "x.head()"
   ]
  },
  {
   "cell_type": "code",
   "execution_count": 462,
   "id": "6b03ecba",
   "metadata": {},
   "outputs": [
    {
     "data": {
      "text/plain": [
       "((10656, 2), (2664, 2), (10656,), (2664,))"
      ]
     },
     "execution_count": 462,
     "metadata": {},
     "output_type": "execute_result"
    }
   ],
   "source": [
    "x_train,x_test,y_train,y_test=train_test_split(x,y,test_size=0.2,random_state=20)\n",
    "x_train.shape,x_test.shape,y_train.shape,y_test.shape"
   ]
  },
  {
   "cell_type": "code",
   "execution_count": 463,
   "id": "fd6772a6",
   "metadata": {},
   "outputs": [
    {
     "data": {
      "text/plain": [
       "LinearRegression()"
      ]
     },
     "execution_count": 463,
     "metadata": {},
     "output_type": "execute_result"
    }
   ],
   "source": [
    "lin_reg=LinearRegression()\n",
    "lin_reg.fit(x_train,y_train)"
   ]
  },
  {
   "cell_type": "code",
   "execution_count": 464,
   "id": "443bf1f1",
   "metadata": {},
   "outputs": [],
   "source": [
    "y_pred=lin_reg.predict(x_test)\n",
    "y_pred_train=lin_reg.predict(x_train)"
   ]
  },
  {
   "cell_type": "code",
   "execution_count": 465,
   "id": "4213c78d",
   "metadata": {},
   "outputs": [],
   "source": [
    "#test data eval\n",
    "\n",
    "def model_eval(actual,predicted):\n",
    "    r2score=r2_score(actual,predicted)\n",
    "    print(f'R2 score = {r2score}')\n",
    "    \n",
    "    mse=mean_squared_error(actual,predicted)\n",
    "    print(f'MSE of model = {mse}')\n",
    "    \n",
    "    mae=mean_absolute_error(actual,predicted)\n",
    "    print(f'MAE of model = {mae}')"
   ]
  },
  {
   "cell_type": "code",
   "execution_count": 466,
   "id": "3a9af744",
   "metadata": {},
   "outputs": [
    {
     "name": "stdout",
     "output_type": "stream",
     "text": [
      "R2 score = 0.18306233363761015\n",
      "MSE of model = 19635.206200163448\n",
      "MAE of model = 58.89719978173434\n"
     ]
    }
   ],
   "source": [
    "model_eval(y_test,y_pred)"
   ]
  },
  {
   "cell_type": "markdown",
   "id": "66950281",
   "metadata": {},
   "source": [
    "### decision tree"
   ]
  },
  {
   "cell_type": "code",
   "execution_count": 474,
   "id": "a2142492",
   "metadata": {},
   "outputs": [],
   "source": [
    "saved_df=final_df.copy"
   ]
  },
  {
   "cell_type": "code",
   "execution_count": 475,
   "id": "28cd2304",
   "metadata": {},
   "outputs": [
    {
     "data": {
      "text/html": [
       "<div>\n",
       "<style scoped>\n",
       "    .dataframe tbody tr th:only-of-type {\n",
       "        vertical-align: middle;\n",
       "    }\n",
       "\n",
       "    .dataframe tbody tr th {\n",
       "        vertical-align: top;\n",
       "    }\n",
       "\n",
       "    .dataframe thead th {\n",
       "        text-align: right;\n",
       "    }\n",
       "</style>\n",
       "<table border=\"1\" class=\"dataframe\">\n",
       "  <thead>\n",
       "    <tr style=\"text-align: right;\">\n",
       "      <th></th>\n",
       "      <th>area_type</th>\n",
       "      <th>site_location</th>\n",
       "      <th>size</th>\n",
       "      <th>total_sqft1</th>\n",
       "      <th>price</th>\n",
       "    </tr>\n",
       "  </thead>\n",
       "  <tbody>\n",
       "    <tr>\n",
       "      <th>0</th>\n",
       "      <td>0.0</td>\n",
       "      <td>1.0</td>\n",
       "      <td>2.0</td>\n",
       "      <td>1056.0</td>\n",
       "      <td>39.07</td>\n",
       "    </tr>\n",
       "    <tr>\n",
       "      <th>1</th>\n",
       "      <td>2.0</td>\n",
       "      <td>7.0</td>\n",
       "      <td>4.0</td>\n",
       "      <td>2600.0</td>\n",
       "      <td>120.00</td>\n",
       "    </tr>\n",
       "    <tr>\n",
       "      <th>2</th>\n",
       "      <td>1.0</td>\n",
       "      <td>53.0</td>\n",
       "      <td>3.0</td>\n",
       "      <td>1440.0</td>\n",
       "      <td>62.00</td>\n",
       "    </tr>\n",
       "    <tr>\n",
       "      <th>3</th>\n",
       "      <td>0.0</td>\n",
       "      <td>52.0</td>\n",
       "      <td>3.0</td>\n",
       "      <td>1521.0</td>\n",
       "      <td>95.00</td>\n",
       "    </tr>\n",
       "    <tr>\n",
       "      <th>4</th>\n",
       "      <td>0.0</td>\n",
       "      <td>51.0</td>\n",
       "      <td>2.0</td>\n",
       "      <td>1200.0</td>\n",
       "      <td>51.00</td>\n",
       "    </tr>\n",
       "    <tr>\n",
       "      <th>...</th>\n",
       "      <td>...</td>\n",
       "      <td>...</td>\n",
       "      <td>...</td>\n",
       "      <td>...</td>\n",
       "      <td>...</td>\n",
       "    </tr>\n",
       "    <tr>\n",
       "      <th>13315</th>\n",
       "      <td>1.0</td>\n",
       "      <td>26.0</td>\n",
       "      <td>5.0</td>\n",
       "      <td>3453.0</td>\n",
       "      <td>231.00</td>\n",
       "    </tr>\n",
       "    <tr>\n",
       "      <th>13316</th>\n",
       "      <td>0.0</td>\n",
       "      <td>25.0</td>\n",
       "      <td>4.0</td>\n",
       "      <td>3600.0</td>\n",
       "      <td>400.00</td>\n",
       "    </tr>\n",
       "    <tr>\n",
       "      <th>13317</th>\n",
       "      <td>1.0</td>\n",
       "      <td>24.0</td>\n",
       "      <td>2.0</td>\n",
       "      <td>1141.0</td>\n",
       "      <td>60.00</td>\n",
       "    </tr>\n",
       "    <tr>\n",
       "      <th>13318</th>\n",
       "      <td>0.0</td>\n",
       "      <td>23.0</td>\n",
       "      <td>4.0</td>\n",
       "      <td>4689.0</td>\n",
       "      <td>488.00</td>\n",
       "    </tr>\n",
       "    <tr>\n",
       "      <th>13319</th>\n",
       "      <td>0.0</td>\n",
       "      <td>22.0</td>\n",
       "      <td>1.0</td>\n",
       "      <td>550.0</td>\n",
       "      <td>17.00</td>\n",
       "    </tr>\n",
       "  </tbody>\n",
       "</table>\n",
       "<p>13320 rows × 5 columns</p>\n",
       "</div>"
      ],
      "text/plain": [
       "       area_type  site_location  size  total_sqft1   price\n",
       "0            0.0            1.0   2.0       1056.0   39.07\n",
       "1            2.0            7.0   4.0       2600.0  120.00\n",
       "2            1.0           53.0   3.0       1440.0   62.00\n",
       "3            0.0           52.0   3.0       1521.0   95.00\n",
       "4            0.0           51.0   2.0       1200.0   51.00\n",
       "...          ...            ...   ...          ...     ...\n",
       "13315        1.0           26.0   5.0       3453.0  231.00\n",
       "13316        0.0           25.0   4.0       3600.0  400.00\n",
       "13317        1.0           24.0   2.0       1141.0   60.00\n",
       "13318        0.0           23.0   4.0       4689.0  488.00\n",
       "13319        0.0           22.0   1.0        550.0   17.00\n",
       "\n",
       "[13320 rows x 5 columns]"
      ]
     },
     "execution_count": 475,
     "metadata": {},
     "output_type": "execute_result"
    }
   ],
   "source": [
    "final_df"
   ]
  },
  {
   "cell_type": "code",
   "execution_count": 477,
   "id": "262d0837",
   "metadata": {},
   "outputs": [],
   "source": [
    "dtree=DecisionTreeRegressor(random_state=10)"
   ]
  },
  {
   "cell_type": "code",
   "execution_count": 479,
   "id": "023d92c2",
   "metadata": {},
   "outputs": [],
   "source": [
    "x=final_df.drop('price',axis=1)\n",
    "y=final_df['price']"
   ]
  },
  {
   "cell_type": "code",
   "execution_count": 480,
   "id": "da94a15e",
   "metadata": {},
   "outputs": [
    {
     "data": {
      "text/plain": [
       "((10656, 4), (2664, 4), (10656,), (2664,))"
      ]
     },
     "execution_count": 480,
     "metadata": {},
     "output_type": "execute_result"
    }
   ],
   "source": [
    "x_train,x_test,y_train,y_test=train_test_split(x,y,test_size=0.2,random_state=20)\n",
    "x_train.shape,x_test.shape,y_train.shape,y_test.shape"
   ]
  },
  {
   "cell_type": "code",
   "execution_count": 481,
   "id": "bc00bf53",
   "metadata": {},
   "outputs": [
    {
     "data": {
      "text/plain": [
       "DecisionTreeRegressor(random_state=10)"
      ]
     },
     "execution_count": 481,
     "metadata": {},
     "output_type": "execute_result"
    }
   ],
   "source": [
    "dtree.fit(x_train,y_train)"
   ]
  },
  {
   "cell_type": "code",
   "execution_count": 482,
   "id": "78b3c6c7",
   "metadata": {},
   "outputs": [],
   "source": [
    "y_pred=dtree.predict(x_test)"
   ]
  },
  {
   "cell_type": "code",
   "execution_count": 483,
   "id": "ec1b3d0c",
   "metadata": {},
   "outputs": [],
   "source": [
    "y_pred_train=dtree.predict(x_train)"
   ]
  },
  {
   "cell_type": "code",
   "execution_count": 484,
   "id": "9f0f91a6",
   "metadata": {},
   "outputs": [
    {
     "name": "stdout",
     "output_type": "stream",
     "text": [
      "R2 score = 0.4677163221755418\n",
      "MSE of model = 12793.509470070592\n",
      "MAE of model = 47.38584084084084\n"
     ]
    }
   ],
   "source": [
    "model_eval(y_test,y_pred)"
   ]
  },
  {
   "cell_type": "code",
   "execution_count": 485,
   "id": "0761022f",
   "metadata": {},
   "outputs": [
    {
     "name": "stdout",
     "output_type": "stream",
     "text": [
      "R2 score = 0.9939027072736875\n",
      "MSE of model = 132.4848982471534\n",
      "MAE of model = 1.9756788976476476\n"
     ]
    }
   ],
   "source": [
    "model_eval(y_train,y_pred_train)"
   ]
  },
  {
   "cell_type": "code",
   "execution_count": null,
   "id": "02e87828",
   "metadata": {},
   "outputs": [],
   "source": [
    "## Hyper tuning"
   ]
  },
  {
   "cell_type": "code",
   "execution_count": 502,
   "id": "60e523a2",
   "metadata": {},
   "outputs": [],
   "source": [
    "model=DecisionTreeRegressor()\n",
    "\n",
    "hyp={\n",
    "    'criterion':['squared_error','absolute_error'],\n",
    "    'max_depth':np.arange(2,10),\n",
    "    'min_samples_leaf':np.arange(2,20),\n",
    "    'min_samples_split': np.arange(10,20),\n",
    "    }"
   ]
  },
  {
   "cell_type": "code",
   "execution_count": 503,
   "id": "a729a3d7",
   "metadata": {},
   "outputs": [
    {
     "data": {
      "text/plain": [
       "RandomizedSearchCV(estimator=DecisionTreeRegressor(),\n",
       "                   param_distributions={'criterion': ['squared_error',\n",
       "                                                      'absolute_error'],\n",
       "                                        'max_depth': array([2, 3, 4, 5, 6, 7, 8, 9]),\n",
       "                                        'min_samples_leaf': array([ 2,  3,  4,  5,  6,  7,  8,  9, 10, 11, 12, 13, 14, 15, 16, 17, 18,\n",
       "       19]),\n",
       "                                        'min_samples_split': array([10, 11, 12, 13, 14, 15, 16, 17, 18, 19])})"
      ]
     },
     "execution_count": 503,
     "metadata": {},
     "output_type": "execute_result"
    }
   ],
   "source": [
    "rscv=RandomizedSearchCV(model,hyp)\n",
    "rscv.fit(x_train,y_train)"
   ]
  },
  {
   "cell_type": "code",
   "execution_count": 505,
   "id": "aeda2fd2",
   "metadata": {},
   "outputs": [
    {
     "data": {
      "text/plain": [
       "DecisionTreeRegressor(max_depth=4, min_samples_leaf=17, min_samples_split=14)"
      ]
     },
     "execution_count": 505,
     "metadata": {},
     "output_type": "execute_result"
    }
   ],
   "source": [
    "rscv.best_estimator_"
   ]
  },
  {
   "cell_type": "code",
   "execution_count": 506,
   "id": "00965b70",
   "metadata": {},
   "outputs": [],
   "source": [
    "hyp_dtree=DecisionTreeRegressor(max_depth=4, min_samples_leaf=17, min_samples_split=14)"
   ]
  },
  {
   "cell_type": "code",
   "execution_count": 508,
   "id": "2250c14a",
   "metadata": {},
   "outputs": [
    {
     "data": {
      "text/plain": [
       "DecisionTreeRegressor(max_depth=4, min_samples_leaf=17, min_samples_split=14)"
      ]
     },
     "execution_count": 508,
     "metadata": {},
     "output_type": "execute_result"
    }
   ],
   "source": [
    "hyp_dtree.fit(x_train,y_train)"
   ]
  },
  {
   "cell_type": "code",
   "execution_count": 509,
   "id": "7ec6dd9e",
   "metadata": {},
   "outputs": [],
   "source": [
    "y_pred=hyp_dtree.predict(x_test)"
   ]
  },
  {
   "cell_type": "code",
   "execution_count": 510,
   "id": "f72262ed",
   "metadata": {},
   "outputs": [],
   "source": [
    "y_pred_train=hyp_dtree.predict(x_train)"
   ]
  },
  {
   "cell_type": "code",
   "execution_count": 511,
   "id": "349533d1",
   "metadata": {},
   "outputs": [
    {
     "name": "stdout",
     "output_type": "stream",
     "text": [
      "R2 score = 0.648782629659561\n",
      "MSE of model = 8441.556524649894\n",
      "MAE of model = 39.634327277359404\n"
     ]
    }
   ],
   "source": [
    "model_eval(y_test,y_pred)"
   ]
  },
  {
   "cell_type": "code",
   "execution_count": 512,
   "id": "712f6d4f",
   "metadata": {},
   "outputs": [
    {
     "name": "stdout",
     "output_type": "stream",
     "text": [
      "R2 score = 0.5457845332153021\n",
      "MSE of model = 9869.411327352744\n",
      "MAE of model = 39.79188412171887\n"
     ]
    }
   ],
   "source": [
    "model_eval(y_train,y_pred_train)"
   ]
  },
  {
   "cell_type": "markdown",
   "id": "6aa0b3d5",
   "metadata": {},
   "source": [
    "### ramdom_forest"
   ]
  },
  {
   "cell_type": "code",
   "execution_count": 514,
   "id": "501f145d",
   "metadata": {},
   "outputs": [
    {
     "data": {
      "text/html": [
       "<div>\n",
       "<style scoped>\n",
       "    .dataframe tbody tr th:only-of-type {\n",
       "        vertical-align: middle;\n",
       "    }\n",
       "\n",
       "    .dataframe tbody tr th {\n",
       "        vertical-align: top;\n",
       "    }\n",
       "\n",
       "    .dataframe thead th {\n",
       "        text-align: right;\n",
       "    }\n",
       "</style>\n",
       "<table border=\"1\" class=\"dataframe\">\n",
       "  <thead>\n",
       "    <tr style=\"text-align: right;\">\n",
       "      <th></th>\n",
       "      <th>area_type</th>\n",
       "      <th>site_location</th>\n",
       "      <th>size</th>\n",
       "      <th>total_sqft1</th>\n",
       "      <th>price</th>\n",
       "    </tr>\n",
       "  </thead>\n",
       "  <tbody>\n",
       "    <tr>\n",
       "      <th>0</th>\n",
       "      <td>0.0</td>\n",
       "      <td>1.0</td>\n",
       "      <td>2.0</td>\n",
       "      <td>1056.0</td>\n",
       "      <td>39.07</td>\n",
       "    </tr>\n",
       "    <tr>\n",
       "      <th>1</th>\n",
       "      <td>2.0</td>\n",
       "      <td>7.0</td>\n",
       "      <td>4.0</td>\n",
       "      <td>2600.0</td>\n",
       "      <td>120.00</td>\n",
       "    </tr>\n",
       "    <tr>\n",
       "      <th>2</th>\n",
       "      <td>1.0</td>\n",
       "      <td>53.0</td>\n",
       "      <td>3.0</td>\n",
       "      <td>1440.0</td>\n",
       "      <td>62.00</td>\n",
       "    </tr>\n",
       "    <tr>\n",
       "      <th>3</th>\n",
       "      <td>0.0</td>\n",
       "      <td>52.0</td>\n",
       "      <td>3.0</td>\n",
       "      <td>1521.0</td>\n",
       "      <td>95.00</td>\n",
       "    </tr>\n",
       "    <tr>\n",
       "      <th>4</th>\n",
       "      <td>0.0</td>\n",
       "      <td>51.0</td>\n",
       "      <td>2.0</td>\n",
       "      <td>1200.0</td>\n",
       "      <td>51.00</td>\n",
       "    </tr>\n",
       "    <tr>\n",
       "      <th>...</th>\n",
       "      <td>...</td>\n",
       "      <td>...</td>\n",
       "      <td>...</td>\n",
       "      <td>...</td>\n",
       "      <td>...</td>\n",
       "    </tr>\n",
       "    <tr>\n",
       "      <th>13315</th>\n",
       "      <td>1.0</td>\n",
       "      <td>26.0</td>\n",
       "      <td>5.0</td>\n",
       "      <td>3453.0</td>\n",
       "      <td>231.00</td>\n",
       "    </tr>\n",
       "    <tr>\n",
       "      <th>13316</th>\n",
       "      <td>0.0</td>\n",
       "      <td>25.0</td>\n",
       "      <td>4.0</td>\n",
       "      <td>3600.0</td>\n",
       "      <td>400.00</td>\n",
       "    </tr>\n",
       "    <tr>\n",
       "      <th>13317</th>\n",
       "      <td>1.0</td>\n",
       "      <td>24.0</td>\n",
       "      <td>2.0</td>\n",
       "      <td>1141.0</td>\n",
       "      <td>60.00</td>\n",
       "    </tr>\n",
       "    <tr>\n",
       "      <th>13318</th>\n",
       "      <td>0.0</td>\n",
       "      <td>23.0</td>\n",
       "      <td>4.0</td>\n",
       "      <td>4689.0</td>\n",
       "      <td>488.00</td>\n",
       "    </tr>\n",
       "    <tr>\n",
       "      <th>13319</th>\n",
       "      <td>0.0</td>\n",
       "      <td>22.0</td>\n",
       "      <td>1.0</td>\n",
       "      <td>550.0</td>\n",
       "      <td>17.00</td>\n",
       "    </tr>\n",
       "  </tbody>\n",
       "</table>\n",
       "<p>13320 rows × 5 columns</p>\n",
       "</div>"
      ],
      "text/plain": [
       "       area_type  site_location  size  total_sqft1   price\n",
       "0            0.0            1.0   2.0       1056.0   39.07\n",
       "1            2.0            7.0   4.0       2600.0  120.00\n",
       "2            1.0           53.0   3.0       1440.0   62.00\n",
       "3            0.0           52.0   3.0       1521.0   95.00\n",
       "4            0.0           51.0   2.0       1200.0   51.00\n",
       "...          ...            ...   ...          ...     ...\n",
       "13315        1.0           26.0   5.0       3453.0  231.00\n",
       "13316        0.0           25.0   4.0       3600.0  400.00\n",
       "13317        1.0           24.0   2.0       1141.0   60.00\n",
       "13318        0.0           23.0   4.0       4689.0  488.00\n",
       "13319        0.0           22.0   1.0        550.0   17.00\n",
       "\n",
       "[13320 rows x 5 columns]"
      ]
     },
     "execution_count": 514,
     "metadata": {},
     "output_type": "execute_result"
    }
   ],
   "source": [
    "final_df"
   ]
  },
  {
   "cell_type": "code",
   "execution_count": 564,
   "id": "e9d0bdf6",
   "metadata": {},
   "outputs": [
    {
     "data": {
      "text/html": [
       "<div>\n",
       "<style scoped>\n",
       "    .dataframe tbody tr th:only-of-type {\n",
       "        vertical-align: middle;\n",
       "    }\n",
       "\n",
       "    .dataframe tbody tr th {\n",
       "        vertical-align: top;\n",
       "    }\n",
       "\n",
       "    .dataframe thead th {\n",
       "        text-align: right;\n",
       "    }\n",
       "</style>\n",
       "<table border=\"1\" class=\"dataframe\">\n",
       "  <thead>\n",
       "    <tr style=\"text-align: right;\">\n",
       "      <th></th>\n",
       "      <th>area_type</th>\n",
       "      <th>site_location</th>\n",
       "      <th>size</th>\n",
       "      <th>total_sqft1</th>\n",
       "      <th>price</th>\n",
       "    </tr>\n",
       "  </thead>\n",
       "  <tbody>\n",
       "    <tr>\n",
       "      <th>count</th>\n",
       "      <td>13320.000000</td>\n",
       "      <td>13320.000000</td>\n",
       "      <td>13320.000000</td>\n",
       "      <td>1.332000e+04</td>\n",
       "      <td>13320.000000</td>\n",
       "    </tr>\n",
       "    <tr>\n",
       "      <th>mean</th>\n",
       "      <td>0.505180</td>\n",
       "      <td>48.434940</td>\n",
       "      <td>2.804107</td>\n",
       "      <td>1.862496e+03</td>\n",
       "      <td>112.565627</td>\n",
       "    </tr>\n",
       "    <tr>\n",
       "      <th>std</th>\n",
       "      <td>0.770234</td>\n",
       "      <td>27.695329</td>\n",
       "      <td>1.295665</td>\n",
       "      <td>1.632844e+04</td>\n",
       "      <td>148.971674</td>\n",
       "    </tr>\n",
       "    <tr>\n",
       "      <th>min</th>\n",
       "      <td>0.000000</td>\n",
       "      <td>1.000000</td>\n",
       "      <td>0.500000</td>\n",
       "      <td>1.000000e+00</td>\n",
       "      <td>8.000000</td>\n",
       "    </tr>\n",
       "    <tr>\n",
       "      <th>25%</th>\n",
       "      <td>0.000000</td>\n",
       "      <td>24.000000</td>\n",
       "      <td>2.000000</td>\n",
       "      <td>1.100000e+03</td>\n",
       "      <td>50.000000</td>\n",
       "    </tr>\n",
       "    <tr>\n",
       "      <th>50%</th>\n",
       "      <td>0.000000</td>\n",
       "      <td>48.000000</td>\n",
       "      <td>3.000000</td>\n",
       "      <td>1.277000e+03</td>\n",
       "      <td>72.000000</td>\n",
       "    </tr>\n",
       "    <tr>\n",
       "      <th>75%</th>\n",
       "      <td>1.000000</td>\n",
       "      <td>72.000000</td>\n",
       "      <td>3.000000</td>\n",
       "      <td>1.680000e+03</td>\n",
       "      <td>120.000000</td>\n",
       "    </tr>\n",
       "    <tr>\n",
       "      <th>max</th>\n",
       "      <td>3.000000</td>\n",
       "      <td>97.000000</td>\n",
       "      <td>43.000000</td>\n",
       "      <td>1.306800e+06</td>\n",
       "      <td>3600.000000</td>\n",
       "    </tr>\n",
       "  </tbody>\n",
       "</table>\n",
       "</div>"
      ],
      "text/plain": [
       "          area_type  site_location          size   total_sqft1         price\n",
       "count  13320.000000   13320.000000  13320.000000  1.332000e+04  13320.000000\n",
       "mean       0.505180      48.434940      2.804107  1.862496e+03    112.565627\n",
       "std        0.770234      27.695329      1.295665  1.632844e+04    148.971674\n",
       "min        0.000000       1.000000      0.500000  1.000000e+00      8.000000\n",
       "25%        0.000000      24.000000      2.000000  1.100000e+03     50.000000\n",
       "50%        0.000000      48.000000      3.000000  1.277000e+03     72.000000\n",
       "75%        1.000000      72.000000      3.000000  1.680000e+03    120.000000\n",
       "max        3.000000      97.000000     43.000000  1.306800e+06   3600.000000"
      ]
     },
     "execution_count": 564,
     "metadata": {},
     "output_type": "execute_result"
    }
   ],
   "source": [
    "final_df.describe()"
   ]
  },
  {
   "cell_type": "code",
   "execution_count": 515,
   "id": "e4b96604",
   "metadata": {},
   "outputs": [],
   "source": [
    "x=final_df.drop('price',axis=1)\n",
    "y=final_df['price']"
   ]
  },
  {
   "cell_type": "code",
   "execution_count": 516,
   "id": "747ce61f",
   "metadata": {},
   "outputs": [
    {
     "data": {
      "text/plain": [
       "((10656, 4), (2664, 4), (10656,), (2664,))"
      ]
     },
     "execution_count": 516,
     "metadata": {},
     "output_type": "execute_result"
    }
   ],
   "source": [
    "x_train,x_test,y_train,y_test=train_test_split(x,y,test_size=0.2,random_state=20)\n",
    "x_train.shape,x_test.shape,y_train.shape,y_test.shape"
   ]
  },
  {
   "cell_type": "code",
   "execution_count": 517,
   "id": "9113ce10",
   "metadata": {},
   "outputs": [],
   "source": [
    "rforest=RandomForestRegressor(random_state=10)"
   ]
  },
  {
   "cell_type": "code",
   "execution_count": 518,
   "id": "edabb121",
   "metadata": {},
   "outputs": [
    {
     "data": {
      "text/plain": [
       "RandomForestRegressor(random_state=10)"
      ]
     },
     "execution_count": 518,
     "metadata": {},
     "output_type": "execute_result"
    }
   ],
   "source": [
    "rforest.fit(x_train,y_train)"
   ]
  },
  {
   "cell_type": "code",
   "execution_count": 520,
   "id": "e4eadd98",
   "metadata": {},
   "outputs": [],
   "source": [
    "y_pred=rforest.predict(x_test)"
   ]
  },
  {
   "cell_type": "code",
   "execution_count": 521,
   "id": "e8fff898",
   "metadata": {},
   "outputs": [],
   "source": [
    "y_pred_train=rforest.predict(x_train)"
   ]
  },
  {
   "cell_type": "code",
   "execution_count": 522,
   "id": "b829f703",
   "metadata": {},
   "outputs": [
    {
     "name": "stdout",
     "output_type": "stream",
     "text": [
      "R2 score = 0.661982745874008\n",
      "MSE of model = 8124.2899639208745\n",
      "MAE of model = 38.503989464419774\n"
     ]
    }
   ],
   "source": [
    "model_eval(y_test,y_pred)"
   ]
  },
  {
   "cell_type": "code",
   "execution_count": 523,
   "id": "204b4516",
   "metadata": {},
   "outputs": [
    {
     "name": "stdout",
     "output_type": "stream",
     "text": [
      "R2 score = 0.9245314271041084\n",
      "MSE of model = 1639.817317253343\n",
      "MAE of model = 15.880253863798524\n"
     ]
    }
   ],
   "source": [
    "model_eval(y_train,y_pred_train)"
   ]
  },
  {
   "cell_type": "code",
   "execution_count": null,
   "id": "376c4041",
   "metadata": {},
   "outputs": [],
   "source": [
    "# Hypertuning"
   ]
  },
  {
   "cell_type": "code",
   "execution_count": 533,
   "id": "bd2796f9",
   "metadata": {},
   "outputs": [],
   "source": [
    "model=RandomForestRegressor()\n",
    "hyp={\n",
    "    'n_estimators':np.arange(10,50,10),\n",
    "    'max_depth':np.arange(4,10),\n",
    "    'min_samples_leaf':np.arange(2,20),\n",
    "    'min_samples_split': np.arange(10,20),\n",
    "    \n",
    "     }"
   ]
  },
  {
   "cell_type": "code",
   "execution_count": 534,
   "id": "c3c9e94f",
   "metadata": {},
   "outputs": [
    {
     "data": {
      "text/plain": [
       "RandomizedSearchCV(estimator=RandomForestRegressor(),\n",
       "                   param_distributions={'max_depth': array([4, 5, 6, 7, 8, 9]),\n",
       "                                        'min_samples_leaf': array([ 2,  3,  4,  5,  6,  7,  8,  9, 10, 11, 12, 13, 14, 15, 16, 17, 18,\n",
       "       19]),\n",
       "                                        'min_samples_split': array([10, 11, 12, 13, 14, 15, 16, 17, 18, 19]),\n",
       "                                        'n_estimators': array([10, 20, 30, 40])})"
      ]
     },
     "execution_count": 534,
     "metadata": {},
     "output_type": "execute_result"
    }
   ],
   "source": [
    "hyper=RandomizedSearchCV(model,hyp)\n",
    "hyper.fit(x_train,y_train)\n"
   ]
  },
  {
   "cell_type": "code",
   "execution_count": 532,
   "id": "f8e1e906",
   "metadata": {},
   "outputs": [
    {
     "data": {
      "text/plain": [
       "RandomForestRegressor(max_depth=9, min_samples_leaf=8, min_samples_split=15,\n",
       "                      n_estimators=40)"
      ]
     },
     "execution_count": 532,
     "metadata": {},
     "output_type": "execute_result"
    }
   ],
   "source": [
    "hyper.best_estimator_"
   ]
  },
  {
   "cell_type": "code",
   "execution_count": 538,
   "id": "e4ae2ab9",
   "metadata": {},
   "outputs": [],
   "source": [
    "hyp_rforest=RandomForestRegressor(max_depth=9, min_samples_leaf=8, min_samples_split=15,\n",
    "                      n_estimators=40)"
   ]
  },
  {
   "cell_type": "code",
   "execution_count": 539,
   "id": "128fe978",
   "metadata": {},
   "outputs": [
    {
     "data": {
      "text/plain": [
       "RandomForestRegressor(max_depth=9, min_samples_leaf=8, min_samples_split=15,\n",
       "                      n_estimators=40)"
      ]
     },
     "execution_count": 539,
     "metadata": {},
     "output_type": "execute_result"
    }
   ],
   "source": [
    "hyp_rforest.fit(x_train,y_train)"
   ]
  },
  {
   "cell_type": "code",
   "execution_count": 540,
   "id": "03ad3628",
   "metadata": {},
   "outputs": [],
   "source": [
    "y_pred=hyp_rforest.predict(x_test)"
   ]
  },
  {
   "cell_type": "code",
   "execution_count": 541,
   "id": "d14ea513",
   "metadata": {},
   "outputs": [],
   "source": [
    "y_pred_train=hyp_rforest.predict(x_train)"
   ]
  },
  {
   "cell_type": "code",
   "execution_count": 542,
   "id": "dff80e14",
   "metadata": {},
   "outputs": [
    {
     "name": "stdout",
     "output_type": "stream",
     "text": [
      "R2 score = 0.6647931786408952\n",
      "MSE of model = 8056.7408360477\n",
      "MAE of model = 36.07455804955753\n"
     ]
    }
   ],
   "source": [
    "model_eval(y_test,y_pred)"
   ]
  },
  {
   "cell_type": "code",
   "execution_count": 543,
   "id": "4f77500c",
   "metadata": {},
   "outputs": [
    {
     "name": "stdout",
     "output_type": "stream",
     "text": [
      "R2 score = 0.6426000821119207\n",
      "MSE of model = 7765.756685849568\n",
      "MAE of model = 33.991786802309704\n"
     ]
    }
   ],
   "source": [
    "model_eval(y_train,y_pred_train)"
   ]
  },
  {
   "cell_type": "code",
   "execution_count": 562,
   "id": "2dd9d67f",
   "metadata": {},
   "outputs": [],
   "source": [
    "with open ('model.pkl','wb') as file:\n",
    "    pickle.dump(hyp_rforest,file)"
   ]
  },
  {
   "cell_type": "code",
   "execution_count": null,
   "id": "a85802b6",
   "metadata": {},
   "outputs": [],
   "source": [
    "##\n",
    "area type\n",
    "{\n",
    "    'Super built-up  Area': 0,\n",
    "    'Built-up  Area': 1,\n",
    "    'Plot  Area': 2,\n",
    "    'Carpet  Area': 3\n",
    "}"
   ]
  },
  {
   "cell_type": "code",
   "execution_count": null,
   "id": "9b4b12d2",
   "metadata": {},
   "outputs": [],
   "source": [
    "## \n",
    "site location\n",
    "\n",
    "{'Alandi Road': 1,\n",
    " 'Kalyani Nagar': 2,\n",
    " 'Mahatma Gandhi Road': 3,\n",
    " 'Lulla Nagar': 4,\n",
    " 'Laxmi Road': 5,\n",
    " 'Law College Road': 6,\n",
    " 'Ambegaon Budruk': 7,\n",
    " 'Koregaon Park': 8,\n",
    " 'Kondhwa Khurd': 9,\n",
    " 'Kondhwa Budruk': 10,\n",
    " 'Kondhwa': 11,\n",
    " 'Kharadi': 12,\n",
    " 'Khadki': 13,\n",
    " 'Khadaki': 14,\n",
    " 'Katraj': 15,\n",
    " 'Kasba Peth': 16,\n",
    " 'Karve Road': 17,\n",
    " 'Mangalwar peth': 18,\n",
    " 'Manik Bagh': 19,\n",
    " 'Market yard': 20,\n",
    " 'Padmavati': 21,\n",
    " 'Pune Railway Station': 22,\n",
    " 'Prabhat Road': 23,\n",
    " 'Pirangut': 24,\n",
    " 'Paud Road': 25,\n",
    " 'Pashan': 26,\n",
    " 'Parvati Darshan': 27,\n",
    " 'Navi Peth': 28,\n",
    " 'Model colony': 29,\n",
    " 'Narayangaon': 30,\n",
    " 'Narayan Peth': 31,\n",
    " 'Nana Peth': 32,\n",
    " 'Nagar Road': 33,\n",
    " 'Mundhawa': 34,\n",
    " 'Mukund Nagar': 35,\n",
    " 'Karve Nagar': 36,\n",
    " 'Kothrud': 37,\n",
    " 'Jangali Maharaj Road': 38,\n",
    " 'Bhavani Peth': 39,\n",
    " 'Chandan Nagar': 40,\n",
    " 'Camp': 41,\n",
    " 'Bund Garden Road': 42,\n",
    " 'Budhwar Peth': 43,\n",
    " 'Bopodi': 44,\n",
    " 'Bibvewadi': 45,\n",
    " 'Bhandarkar Road': 46,\n",
    " 'Deccan Gymkhana': 47,\n",
    " 'Baner road': 48,\n",
    " 'Baner': 49,\n",
    " 'Hingne Khurd': 50,\n",
    " 'Aundh Road': 51,\n",
    " 'Aundh': 52,\n",
    " 'Anandnagar': 53,\n",
    " 'Dapodi': 54,\n",
    " 'Balaji Nagar': 55,\n",
    " 'Dehu Road': 56,\n",
    " 'Ganeshkhind': 57,\n",
    " 'Dhankawadi': 58,\n",
    " 'Hadapsar Industrial Estate': 59,\n",
    " 'Guruwar peth': 60,\n",
    " 'Gultekdi': 61,\n",
    " 'Gokhale Nagar': 62,\n",
    " 'Ghorpade Peth': 63,\n",
    " 'Hadapsar': 64,\n",
    " 'Ganesh Peth': 65,\n",
    " 'Dhayari Phata': 66,\n",
    " 'Fergusson College Road': 67,\n",
    " 'Fatima Nagar': 68,\n",
    " 'Erandwane': 69,\n",
    " 'Dhole Patil Road': 70,\n",
    " 'Tilak Road': 71,\n",
    " 'Uruli Devachi': 72,\n",
    " 'Vadgaon Budruk': 73,\n",
    " 'Wadgaon Sheri': 74,\n",
    " 'Viman Nagar': 75,\n",
    " 'Wakadewadi': 76,\n",
    " 'Vishrant Wadi': 77,\n",
    " 'Wagholi': 78,\n",
    " 'Yerawada': 79,\n",
    " 'Wanowrie': 80,\n",
    " 'Warje': 81,\n",
    " 'Somwar Peth': 82,\n",
    " 'Swargate': 83,\n",
    " 'Sasson Road': 84,\n",
    " 'Sinhagad Road': 85,\n",
    " 'Shukrawar Peth': 86,\n",
    " 'Shivaji Nagar': 87,\n",
    " 'Shaniwar Peth': 88,\n",
    " 'Senapati Bapat Road': 89,\n",
    " 'Satara Road': 90,\n",
    " 'Salunke Vihar': 91,\n",
    " 'Sahakar Nagar': 92,\n",
    " 'Sadashiv Peth': 93,\n",
    " 'Raviwar Peth': 94,\n",
    " 'Rasta Peth': 95,\n",
    " 'Ghorpadi': 96,\n",
    " 'other': 97}"
   ]
  }
 ],
 "metadata": {
  "kernelspec": {
   "display_name": "Python 3 (ipykernel)",
   "language": "python",
   "name": "python3"
  },
  "language_info": {
   "codemirror_mode": {
    "name": "ipython",
    "version": 3
   },
   "file_extension": ".py",
   "mimetype": "text/x-python",
   "name": "python",
   "nbconvert_exporter": "python",
   "pygments_lexer": "ipython3",
   "version": "3.9.12"
  }
 },
 "nbformat": 4,
 "nbformat_minor": 5
}
